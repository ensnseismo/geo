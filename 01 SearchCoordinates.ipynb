{
 "cells": [
  {
   "cell_type": "code",
   "execution_count": 1,
   "metadata": {},
   "outputs": [],
   "source": [
    "import geopandas as gpd\n",
    "import geopy\n",
    "import shapely as sh\n",
    "from shapely.geometry import Point\n",
    "import pandas as pd\n",
    "import numpy as np\n",
    "import time"
   ]
  },
  {
   "cell_type": "code",
   "execution_count": 2,
   "metadata": {},
   "outputs": [],
   "source": [
    "def coordToArray(geopdcoord):\n",
    "    coord = str(geopdcoord['geometry'][0])\n",
    "    j = coord.replace(\"POINT (\",\"\") #remove palavra POINT (\n",
    "    i = j.replace(\")\",\"\").split(\" \") # remove ultimo parenteses e splita o que sobrou resultando um array com as 2 coord\n",
    "    ponto = Point(float(i[0]),float(i[1]))\n",
    "    return ponto"
   ]
  },
  {
   "cell_type": "code",
   "execution_count": 6,
   "metadata": {
    "scrolled": true
   },
   "outputs": [],
   "source": [
    "df = pd.read_excel(\"RouboRecupVec2.xlsx\")"
   ]
  },
  {
   "cell_type": "code",
   "execution_count": 4,
   "metadata": {},
   "outputs": [],
   "source": [
    "idhere='SEU APP ID'\n",
    "codehere='SEU APP CODE'"
   ]
  },
  {
   "cell_type": "code",
   "execution_count": 21,
   "metadata": {},
   "outputs": [],
   "source": [
    "#filtra apenas linhas que contém valores para o nome de rua em um ano específico e onde o campo geocode não é vazio\n",
    "filtro = (pd.isna(df['Geocode']) & pd.notna(df['Nome Rua']) & (df['Ano']>=2014)&(df['Ano']<=2019))\n",
    "dfSgeo = df.loc[filtro]"
   ]
  },
  {
   "cell_type": "code",
   "execution_count": 22,
   "metadata": {},
   "outputs": [
    {
     "data": {
      "text/plain": [
       "(86227, 18)"
      ]
     },
     "execution_count": 22,
     "metadata": {},
     "output_type": "execute_result"
    }
   ],
   "source": [
    "dfSgeo.shape"
   ]
  },
  {
   "cell_type": "code",
   "execution_count": 23,
   "metadata": {},
   "outputs": [
    {
     "data": {
      "text/plain": [
       "(39072, 18)"
      ]
     },
     "execution_count": 23,
     "metadata": {},
     "output_type": "execute_result"
    }
   ],
   "source": [
    "mask = (((dfSgeo['Município']=='Porto Alegre')|\n",
    "         (dfSgeo['Município']=='Canoas')|\n",
    "         (dfSgeo['Município']=='Viamão')| \n",
    "         (dfSgeo['Município']=='Cachoeirinha')|\n",
    "         (dfSgeo['Município']=='Gravataí')|\n",
    "         (dfSgeo['Município']=='São Leopoldo')|\n",
    "         (dfSgeo['Município']=='Novo Hamburgo')|\n",
    "         (dfSgeo['Município']=='Alvorada')|\n",
    "         (dfSgeo['Município']=='Sapucaia do Sul')|\n",
    "         (dfSgeo['Município']=='Guaíba')|\n",
    "         (dfSgeo['Município']=='Eldorado do Sul')|\n",
    "         (dfSgeo['Município']=='Esteio')) & pd.notna(dfSgeo['Nro']))\n",
    "\n",
    "dfteste = dfSgeo.loc[mask]\n",
    "dfteste.shape"
   ]
  },
  {
   "cell_type": "code",
   "execution_count": 24,
   "metadata": {},
   "outputs": [],
   "source": [
    "newgeocode = []"
   ]
  },
  {
   "cell_type": "code",
   "execution_count": 25,
   "metadata": {},
   "outputs": [],
   "source": [
    "#LAÇO DE REPETIÇÃO QUE PEGA COLUNAS DE RUA, NRO E CIDADE E CONSULTA NO HERE WEGO MAPS\n",
    "i=0\n",
    "for i in range(len(dfteste.index)):\n",
    "#for i in range(5):    \n",
    "    time.sleep(0.4) #tempo pro programa pensar\n",
    "    endereco = str(dfteste.iat[i,14])+' '+str(dfteste.iat[i,15])+', '+str(dfteste.iat[i,12]) #colunas de rua, nro e cidade\n",
    "    #print(endereco)\n",
    "    \n",
    "    tentativas = [3,5,7,10,15]    \n",
    "    for tmout in tentativas: #laço para tentar pesquisar com timouts diferentes\n",
    "        try:\n",
    "            coordenadas=gpd.tools.geocode(endereco, timeout=tmout,provider='here', app_id=idhere, app_code=codehere)\n",
    "            newgeocode.append(coordToArray(coordenadas))\n",
    "            #print(tmout)\n",
    "            break # se der certo ele quebra o for\n",
    "        except:\n",
    "            if tmout == 15: #se chegou até o time out 15 e entrou na exceção então insere coordenada do guaíba\n",
    "                coordenadas = Point(-51.278229,-30.068491) #coordenadas no meio do lago Guaíba\n",
    "                newgeocode.append(coordenadas)\n",
    "                break\n",
    "            else:\n",
    "                continue #se ainda não chegou no tentou o time out 15 então continua tentando      "
   ]
  },
  {
   "cell_type": "code",
   "execution_count": 26,
   "metadata": {},
   "outputs": [
    {
     "name": "stdout",
     "output_type": "stream",
     "text": [
      "now = 2019-11-11 23:15:42.363031\n"
     ]
    }
   ],
   "source": [
    "#registra momento que programa para de rodar\n",
    "from datetime import datetime\n",
    "now = datetime.now()\n",
    "print(\"now =\", now)"
   ]
  },
  {
   "cell_type": "code",
   "execution_count": 28,
   "metadata": {},
   "outputs": [],
   "source": [
    "dfNgeo = pd.DataFrame({'Geocode Novo':newgeocode})\n",
    "dfteste.index = range(len(dfteste)) #reseta os index do conjunto que foi pesquisado para possibilitar o concat\n",
    "dfFinal = pd.concat([dfteste,dfNgeo], axis=1, sort=False) #une o Df de pesquisa com o df de coordendas obtidas"
   ]
  },
  {
   "cell_type": "code",
   "execution_count": 111,
   "metadata": {},
   "outputs": [],
   "source": [
    "#Cria tabela\n",
    "#with pd.ExcelWriter('SuaTabela.xlsx') as writer:\n",
    "#    dfFinal.to_excel(writer, sheet_name='Base')    "
   ]
  },
  {
   "cell_type": "code",
   "execution_count": 29,
   "metadata": {},
   "outputs": [],
   "source": [
    "#Adiciona mais uma aba a um arquivo existente\n",
    "with pd.ExcelWriter('Georreferenciado2005.xlsx', mode='a', engine='openpyxl') as writer: \n",
    "    dfFinal.to_excel(writer, sheet_name='20142019') "
   ]
  }
 ],
 "metadata": {
  "kernelspec": {
   "display_name": "Python 3",
   "language": "python",
   "name": "python3"
  },
  "language_info": {
   "codemirror_mode": {
    "name": "ipython",
    "version": 3
   },
   "file_extension": ".py",
   "mimetype": "text/x-python",
   "name": "python",
   "nbconvert_exporter": "python",
   "pygments_lexer": "ipython3",
   "version": "3.7.3"
  }
 },
 "nbformat": 4,
 "nbformat_minor": 2
}
