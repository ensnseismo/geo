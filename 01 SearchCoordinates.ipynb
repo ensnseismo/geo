{
 "cells": [
  {
   "cell_type": "code",
   "execution_count": 1,
   "metadata": {},
   "outputs": [],
   "source": [
    "import geopandas as gpd\n",
    "import geopy\n",
    "import shapely as sh\n",
    "from shapely.geometry import Point"
   ]
  },
  {
   "cell_type": "code",
   "execution_count": 2,
   "metadata": {},
   "outputs": [],
   "source": [
    "def coordToArray(geopdcoord):\n",
    "    coord = str(geopdcoord['geometry'][0])\n",
    "    j = coord.replace(\"POINT (\",\"\") #remove palavra POINT (\n",
    "    i = j.replace(\")\",\"\").split(\" \") # remove ultimo parenteses e splita o que sobrou resultando num array com as 2 coord\n",
    "    ponto = Point(float(i[0]),float(i[1]))\n",
    "    return ponto"
   ]
  },
  {
   "cell_type": "code",
   "execution_count": 49,
   "metadata": {},
   "outputs": [],
   "source": [
    "#oor = gpd.tools.geocode(\"Avenida Pedro Quaresma da Silva , Novo Hamburgo\", timeout=5, provider='here', app_id='SEU APP ID HERE', app_code='SEU CODE ID HERE')\n",
    "coor = gpd.tools.geocode(\"Avenida Pedro Quaresma da Silva 980, Novo Hamburgo\", timeout=5)\n",
    "\n",
    "#rua = gpd.tools.reverse_geocode([Point(-51.12429,-30.09012)], timeout=5,provider='here', app_id='SEU APP ID HERE', app_code='SEU CODE ID HERE')\n",
    "#print(coor.geometry)\n",
    "#rua"
   ]
  },
  {
   "cell_type": "code",
   "execution_count": 37,
   "metadata": {},
   "outputs": [
    {
     "data": {
      "image/svg+xml": [
       "<svg xmlns=\"http://www.w3.org/2000/svg\" xmlns:xlink=\"http://www.w3.org/1999/xlink\" width=\"100.0\" height=\"100.0\" viewBox=\"-52.17852 -31.07035 2.0 2.0\" preserveAspectRatio=\"xMinYMin meet\"><g transform=\"matrix(1,0,0,-1,0,-60.1407)\"><circle cx=\"-51.17852\" cy=\"-30.07035\" r=\"0.06\" stroke=\"#555555\" stroke-width=\"0.02\" fill=\"#66cc99\" opacity=\"0.6\" /></g></svg>"
      ],
      "text/plain": [
       "<shapely.geometry.point.Point at 0x2659277c390>"
      ]
     },
     "execution_count": 37,
     "metadata": {},
     "output_type": "execute_result"
    }
   ],
   "source": [
    "latlong = coordToArray(coor)\n",
    "latlong"
   ]
  },
  {
   "cell_type": "code",
   "execution_count": 47,
   "metadata": {},
   "outputs": [
    {
     "data": {
      "text/plain": [
       "0    POINT (-51.17034 -29.67806)\n",
       "Name: geometry, dtype: geometry"
      ]
     },
     "execution_count": 47,
     "metadata": {},
     "output_type": "execute_result"
    }
   ],
   "source": [
    "coor['geometry']"
   ]
  },
  {
   "cell_type": "code",
   "execution_count": 3,
   "metadata": {},
   "outputs": [],
   "source": [
    "import pandas as pd\n",
    "import numpy as np"
   ]
  },
  {
   "cell_type": "code",
   "execution_count": 6,
   "metadata": {
    "scrolled": true
   },
   "outputs": [],
   "source": [
    "df = pd.read_excel(\"RouboRecupVec2.xlsx\")"
   ]
  },
  {
   "cell_type": "code",
   "execution_count": 12,
   "metadata": {},
   "outputs": [],
   "source": [
    "#df.head(5)"
   ]
  },
  {
   "cell_type": "code",
   "execution_count": 4,
   "metadata": {},
   "outputs": [],
   "source": [
    "idhere='SEU ID DA HERE'\n",
    "codehere='SEU CODIGO DA HERE'"
   ]
  },
  {
   "cell_type": "code",
   "execution_count": 21,
   "metadata": {},
   "outputs": [],
   "source": [
    "#seleciona apenas linhas que tem nome de rua diferente de vazio ou -  e de um ano específico\n",
    "mask = (pd.isna(df['Geocode']) & pd.notna(df['Nome Rua']) & (df['Ano']>=2014)&(df['Ano']<=2019))#máscara para selecionar apenas dados sem geo code e com rua \n",
    "dfSgeo = df.loc[mask]"
   ]
  },
  {
   "cell_type": "code",
   "execution_count": 22,
   "metadata": {},
   "outputs": [
    {
     "data": {
      "text/plain": [
       "(86227, 18)"
      ]
     },
     "execution_count": 22,
     "metadata": {},
     "output_type": "execute_result"
    }
   ],
   "source": [
    "dfSgeo.shape"
   ]
  },
  {
   "cell_type": "code",
   "execution_count": 23,
   "metadata": {},
   "outputs": [
    {
     "data": {
      "text/plain": [
       "(39072, 18)"
      ]
     },
     "execution_count": 23,
     "metadata": {},
     "output_type": "execute_result"
    }
   ],
   "source": [
    "mask = (((dfSgeo['Município']=='Porto Alegre')|\n",
    "         (dfSgeo['Município']=='Canoas')|\n",
    "         (dfSgeo['Município']=='Viamão')| \n",
    "         (dfSgeo['Município']=='Cachoeirinha')|\n",
    "         (dfSgeo['Município']=='Gravataí')|\n",
    "         (dfSgeo['Município']=='São Leopoldo')|\n",
    "         (dfSgeo['Município']=='Novo Hamburgo')|\n",
    "         (dfSgeo['Município']=='Alvorada')|\n",
    "         (dfSgeo['Município']=='Sapucaia do Sul')|\n",
    "         (dfSgeo['Município']=='Guaíba')|\n",
    "         (dfSgeo['Município']=='Eldorado do Sul')|\n",
    "         (dfSgeo['Município']=='Esteio')) & pd.notna(dfSgeo['Nro']))\n",
    "\n",
    "dfteste = dfSgeo.loc[mask]\n",
    "dfteste.shape"
   ]
  },
  {
   "cell_type": "code",
   "execution_count": 24,
   "metadata": {},
   "outputs": [],
   "source": [
    "newgeocode = []"
   ]
  },
  {
   "cell_type": "code",
   "execution_count": 25,
   "metadata": {},
   "outputs": [],
   "source": [
    "#LAÇO DE REPETIÇÃO QUE PEGA COLUNAS DE RUA, NRO E CIDADE E CONSULTA NO HERE WEGO MAPS\n",
    "import time\n",
    "i=0\n",
    "for i in range(len(dfteste.index)):\n",
    "#for i in range(5):    \n",
    "    time.sleep(0.4) #tempo pro programa pensar\n",
    "    endereco = str(dfteste.iat[i,14])+' '+str(dfteste.iat[i,15])+', '+str(dfteste.iat[i,12]) #colunas de rua, nro e cidade\n",
    "    #print(endereco)\n",
    "    \n",
    "    tentativas = [3,5,7,10,15]    \n",
    "    for tmout in tentativas: #laço para tentar pesquisar com timouts diferentes\n",
    "        try:\n",
    "            coordenadas=gpd.tools.geocode(endereco, timeout=tmout,provider='here', app_id=idhere, app_code=codehere)\n",
    "            newgeocode.append(coordToArray(coordenadas))\n",
    "            #print(tmout)\n",
    "            break # se der certo ele quebra o for\n",
    "        except:\n",
    "            if tmout == 15: #se chegou até o time out 15 e entrou na exceção então insere coordenada do guaíba\n",
    "                coordenadas = Point(-51.278229,-30.068491) #coordenadas no meio do lago Guaíba\n",
    "                newgeocode.append(coordenadas)\n",
    "                break\n",
    "            else:\n",
    "                continue #se ainda não chegou no tentou o time out 15 então continua tentando      "
   ]
  },
  {
   "cell_type": "code",
   "execution_count": 26,
   "metadata": {},
   "outputs": [
    {
     "name": "stdout",
     "output_type": "stream",
     "text": [
      "now = 2019-11-11 23:15:42.363031\n"
     ]
    }
   ],
   "source": [
    "from datetime import datetime\n",
    "# datetime object containing current date and time\n",
    "now = datetime.now()\n",
    " \n",
    "print(\"now =\", now)"
   ]
  },
  {
   "cell_type": "code",
   "execution_count": 27,
   "metadata": {},
   "outputs": [
    {
     "data": {
      "text/plain": [
       "39072"
      ]
     },
     "execution_count": 27,
     "metadata": {},
     "output_type": "execute_result"
    }
   ],
   "source": [
    "len(newgeocode)"
   ]
  },
  {
   "cell_type": "code",
   "execution_count": 28,
   "metadata": {},
   "outputs": [],
   "source": [
    "dfNgeo = pd.DataFrame({'Geocode Novo':newgeocode})\n",
    "dfteste.index = range(len(dfteste)) #reseta os index do conjunto que foi pesquisado para possibilitar o concat\n",
    "dfFinal = pd.concat([dfteste,dfNgeo], axis=1, sort=False) #une o Df de pesquisa com o df de coordendas obtidas\n",
    "#dfFinal.head()\n",
    "#dfFinal['New Geocode'] = newgeocode"
   ]
  },
  {
   "cell_type": "code",
   "execution_count": 111,
   "metadata": {},
   "outputs": [],
   "source": [
    "#Cria tabela\n",
    "#with pd.ExcelWriter('Georreferenciado2005.xlsx') as writer:\n",
    "#    dfFinal.to_excel(writer, sheet_name='Teste')    "
   ]
  },
  {
   "cell_type": "code",
   "execution_count": 29,
   "metadata": {},
   "outputs": [],
   "source": [
    "#Adiciona mais uma aba a um arquivo existente\n",
    "with pd.ExcelWriter('Georreferenciado2005.xlsx', mode='a', engine='openpyxl') as writer: \n",
    "    dfFinal.to_excel(writer, sheet_name='20142019') "
   ]
  }
 ],
 "metadata": {
  "kernelspec": {
   "display_name": "Python 3",
   "language": "python",
   "name": "python3"
  },
  "language_info": {
   "codemirror_mode": {
    "name": "ipython",
    "version": 3
   },
   "file_extension": ".py",
   "mimetype": "text/x-python",
   "name": "python",
   "nbconvert_exporter": "python",
   "pygments_lexer": "ipython3",
   "version": "3.7.3"
  }
 },
 "nbformat": 4,
 "nbformat_minor": 2
}
