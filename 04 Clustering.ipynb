{
 "cells": [
  {
   "cell_type": "code",
   "execution_count": 1,
   "metadata": {},
   "outputs": [],
   "source": [
    "from sklearn.cluster import KMeans as km\n",
    "import pandas as pd\n",
    "import folium as fl\n",
    "from folium.plugins import HeatMapWithTime\n",
    "import seaborn as sb\n",
    "import numpy as np\n",
    "import matplotlib.pyplot as plt\n",
    "import math"
   ]
  },
  {
   "cell_type": "code",
   "execution_count": 8,
   "metadata": {},
   "outputs": [],
   "source": [
    "df = pd.read_excel('Relacao_Roubo_Recup.xlsx')"
   ]
  },
  {
   "cell_type": "code",
   "execution_count": 9,
   "metadata": {},
   "outputs": [
    {
     "data": {
      "text/html": [
       "<div>\n",
       "<style scoped>\n",
       "    .dataframe tbody tr th:only-of-type {\n",
       "        vertical-align: middle;\n",
       "    }\n",
       "\n",
       "    .dataframe tbody tr th {\n",
       "        vertical-align: top;\n",
       "    }\n",
       "\n",
       "    .dataframe thead th {\n",
       "        text-align: right;\n",
       "    }\n",
       "</style>\n",
       "<table border=\"1\" class=\"dataframe\">\n",
       "  <thead>\n",
       "    <tr style=\"text-align: right;\">\n",
       "      <th></th>\n",
       "      <th>indice</th>\n",
       "      <th>Órgão Registro</th>\n",
       "      <th>Ano</th>\n",
       "      <th>Hora Minuto</th>\n",
       "      <th>Placa</th>\n",
       "      <th>Marca</th>\n",
       "      <th>Município</th>\n",
       "      <th>Data Fato</th>\n",
       "      <th>Nome Rua</th>\n",
       "      <th>Nro</th>\n",
       "      <th>Fato</th>\n",
       "      <th>ano recup</th>\n",
       "      <th>Hora recup</th>\n",
       "      <th>Mun recup</th>\n",
       "      <th>Dt recup</th>\n",
       "      <th>fato</th>\n",
       "      <th>x roubo</th>\n",
       "      <th>y roubo</th>\n",
       "      <th>x recuperacao</th>\n",
       "      <th>y recuperacao</th>\n",
       "    </tr>\n",
       "  </thead>\n",
       "  <tbody>\n",
       "    <tr>\n",
       "      <th>0</th>\n",
       "      <td>0</td>\n",
       "      <td>100310</td>\n",
       "      <td>2005</td>\n",
       "      <td>21:00:00</td>\n",
       "      <td>LYG8322</td>\n",
       "      <td>FIAT/TEMPRA SX</td>\n",
       "      <td>Porto Alegre</td>\n",
       "      <td>2005-07-27</td>\n",
       "      <td>JOAO TELLES</td>\n",
       "      <td>195</td>\n",
       "      <td>ROUBO DE VEICULO</td>\n",
       "      <td>2005</td>\n",
       "      <td>22:00:00</td>\n",
       "      <td>Porto Alegre</td>\n",
       "      <td>2005-07-27</td>\n",
       "      <td>RECUPERACAO DE VEICULO</td>\n",
       "      <td>-51.212353</td>\n",
       "      <td>-30.031055</td>\n",
       "      <td>-51.20878</td>\n",
       "      <td>-30.02914</td>\n",
       "    </tr>\n",
       "  </tbody>\n",
       "</table>\n",
       "</div>"
      ],
      "text/plain": [
       "   indice  Órgão Registro   Ano Hora Minuto    Placa           Marca  \\\n",
       "0       0          100310  2005    21:00:00  LYG8322  FIAT/TEMPRA SX   \n",
       "\n",
       "      Município  Data Fato     Nome Rua  Nro              Fato  ano recup  \\\n",
       "0  Porto Alegre 2005-07-27  JOAO TELLES  195  ROUBO DE VEICULO       2005   \n",
       "\n",
       "  Hora recup     Mun recup   Dt recup                    fato    x roubo  \\\n",
       "0   22:00:00  Porto Alegre 2005-07-27  RECUPERACAO DE VEICULO -51.212353   \n",
       "\n",
       "     y roubo  x recuperacao  y recuperacao  \n",
       "0 -30.031055      -51.20878      -30.02914  "
      ]
     },
     "execution_count": 9,
     "metadata": {},
     "output_type": "execute_result"
    }
   ],
   "source": [
    "df.head(1)"
   ]
  },
  {
   "cell_type": "code",
   "execution_count": 10,
   "metadata": {},
   "outputs": [
    {
     "data": {
      "text/plain": [
       "(4364, 20)"
      ]
     },
     "execution_count": 10,
     "metadata": {},
     "output_type": "execute_result"
    }
   ],
   "source": [
    "df.loc[(df.Ano==2019)].shape"
   ]
  },
  {
   "cell_type": "code",
   "execution_count": 11,
   "metadata": {},
   "outputs": [],
   "source": [
    "df1 = df.drop(columns=['indice','Órgão Registro', 'Hora Minuto', 'Placa', 'Data Fato', 'Nome Rua', 'Nro', 'Fato', 'ano recup',\n",
    "       'Hora recup', 'Mun recup', 'Dt recup', 'fato'])"
   ]
  },
  {
   "cell_type": "code",
   "execution_count": 12,
   "metadata": {},
   "outputs": [
    {
     "data": {
      "text/html": [
       "<div>\n",
       "<style scoped>\n",
       "    .dataframe tbody tr th:only-of-type {\n",
       "        vertical-align: middle;\n",
       "    }\n",
       "\n",
       "    .dataframe tbody tr th {\n",
       "        vertical-align: top;\n",
       "    }\n",
       "\n",
       "    .dataframe thead th {\n",
       "        text-align: right;\n",
       "    }\n",
       "</style>\n",
       "<table border=\"1\" class=\"dataframe\">\n",
       "  <thead>\n",
       "    <tr style=\"text-align: right;\">\n",
       "      <th></th>\n",
       "      <th>Ano</th>\n",
       "      <th>Marca</th>\n",
       "      <th>Município</th>\n",
       "      <th>x roubo</th>\n",
       "      <th>y roubo</th>\n",
       "      <th>x recuperacao</th>\n",
       "      <th>y recuperacao</th>\n",
       "    </tr>\n",
       "  </thead>\n",
       "  <tbody>\n",
       "    <tr>\n",
       "      <th>0</th>\n",
       "      <td>2005</td>\n",
       "      <td>FIAT/TEMPRA SX</td>\n",
       "      <td>Porto Alegre</td>\n",
       "      <td>-51.212353</td>\n",
       "      <td>-30.031055</td>\n",
       "      <td>-51.20878</td>\n",
       "      <td>-30.02914</td>\n",
       "    </tr>\n",
       "  </tbody>\n",
       "</table>\n",
       "</div>"
      ],
      "text/plain": [
       "    Ano           Marca     Município    x roubo    y roubo  x recuperacao  \\\n",
       "0  2005  FIAT/TEMPRA SX  Porto Alegre -51.212353 -30.031055      -51.20878   \n",
       "\n",
       "   y recuperacao  \n",
       "0      -30.02914  "
      ]
     },
     "execution_count": 12,
     "metadata": {},
     "output_type": "execute_result"
    }
   ],
   "source": [
    "df1.head(1)"
   ]
  },
  {
   "cell_type": "code",
   "execution_count": 13,
   "metadata": {},
   "outputs": [],
   "source": [
    "def calculate_wcss(data):\n",
    "    wcss = []\n",
    "    for n in range(2, 30):\n",
    "        kmeans = km(n_clusters=n)\n",
    "        kmeans.fit(X=data)\n",
    "        wcss.append(kmeans.inertia_)\n",
    "\n",
    "    return wcss"
   ]
  },
  {
   "cell_type": "code",
   "execution_count": 14,
   "metadata": {},
   "outputs": [],
   "source": [
    "def optimal_number_of_clusters(wcss):\n",
    "    x1, y1 = 2, wcss[0]\n",
    "    x2, y2 = 30, wcss[len(wcss)-1]\n",
    "\n",
    "    distances = []\n",
    "    for i in range(len(wcss)):\n",
    "        x0 = i+2\n",
    "        y0 = wcss[i]\n",
    "        numerator = abs((y2-y1)*x0 - (x2-x1)*y0 + x2*y1 - y2*x1)\n",
    "        denominator = math.sqrt((y2 - y1)**2 + (x2 - x1)**2)\n",
    "        distances.append(numerator/denominator)\n",
    "    \n",
    "    return distances.index(max(distances)) + 2"
   ]
  },
  {
   "cell_type": "code",
   "execution_count": 15,
   "metadata": {},
   "outputs": [
    {
     "data": {
      "text/plain": [
       "31992"
      ]
     },
     "execution_count": 15,
     "metadata": {},
     "output_type": "execute_result"
    }
   ],
   "source": [
    "#somente porto alegre\n",
    "dfPoa = df1.loc[df1['Município']=='Porto Alegre']\n",
    "X1 = np.array(dfPoa.drop(['Município','Ano', 'Marca'], axis=1))\n",
    "len(X1)"
   ]
  },
  {
   "cell_type": "code",
   "execution_count": 16,
   "metadata": {},
   "outputs": [
    {
     "data": {
      "text/plain": [
       "[<matplotlib.lines.Line2D at 0x1d4d30b2470>]"
      ]
     },
     "execution_count": 16,
     "metadata": {},
     "output_type": "execute_result"
    },
    {
     "data": {
      "image/png": "[encoded data removed]",
      "text/plain": [
       "<Figure size 432x288 with 1 Axes>"
      ]
     },
     "metadata": {
      "needs_background": "light"
     },
     "output_type": "display_data"
    }
   ],
   "source": [
    "plt.plot(range(2, 30),calculate_wcss(X1))"
   ]
  },
  {
   "cell_type": "code",
   "execution_count": 17,
   "metadata": {},
   "outputs": [],
   "source": [
    "sum_of_squares = calculate_wcss(X1)"
   ]
  },
  {
   "cell_type": "code",
   "execution_count": 18,
   "metadata": {},
   "outputs": [
    {
     "data": {
      "text/plain": [
       "9"
      ]
     },
     "execution_count": 18,
     "metadata": {},
     "output_type": "execute_result"
    }
   ],
   "source": [
    "# calculando a quantidade ótima de clusters\n",
    "n1 = optimal_number_of_clusters(sum_of_squares)\n",
    "n1"
   ]
  },
  {
   "cell_type": "code",
   "execution_count": 19,
   "metadata": {},
   "outputs": [],
   "source": [
    "# rodando o kmeans para nossa quantidade ótima de clusters\n",
    "kmeans = km(n_clusters=n1,random_state=0)\n",
    "clusters = kmeans.fit_predict(X1)"
   ]
  },
  {
   "cell_type": "code",
   "execution_count": 20,
   "metadata": {},
   "outputs": [
    {
     "name": "stderr",
     "output_type": "stream",
     "text": [
      "C:\\Users\\lucas-benz\\AppData\\Local\\Continuum\\anaconda3\\lib\\site-packages\\ipykernel_launcher.py:1: SettingWithCopyWarning: \n",
      "A value is trying to be set on a copy of a slice from a DataFrame.\n",
      "Try using .loc[row_indexer,col_indexer] = value instead\n",
      "\n",
      "See the caveats in the documentation: http://pandas.pydata.org/pandas-docs/stable/indexing.html#indexing-view-versus-copy\n",
      "  \"\"\"Entry point for launching an IPython kernel.\n"
     ]
    }
   ],
   "source": [
    "dfPoa['Clusters'] = clusters"
   ]
  },
  {
   "cell_type": "code",
   "execution_count": 21,
   "metadata": {},
   "outputs": [
    {
     "data": {
      "text/html": [
       "<div>\n",
       "<style scoped>\n",
       "    .dataframe tbody tr th:only-of-type {\n",
       "        vertical-align: middle;\n",
       "    }\n",
       "\n",
       "    .dataframe tbody tr th {\n",
       "        vertical-align: top;\n",
       "    }\n",
       "\n",
       "    .dataframe thead th {\n",
       "        text-align: right;\n",
       "    }\n",
       "</style>\n",
       "<table border=\"1\" class=\"dataframe\">\n",
       "  <thead>\n",
       "    <tr style=\"text-align: right;\">\n",
       "      <th></th>\n",
       "      <th>Ano</th>\n",
       "      <th>Marca</th>\n",
       "      <th>Município</th>\n",
       "      <th>x roubo</th>\n",
       "      <th>y roubo</th>\n",
       "      <th>x recuperacao</th>\n",
       "      <th>y recuperacao</th>\n",
       "      <th>Clusters</th>\n",
       "    </tr>\n",
       "  </thead>\n",
       "  <tbody>\n",
       "    <tr>\n",
       "      <th>0</th>\n",
       "      <td>2005</td>\n",
       "      <td>FIAT/TEMPRA SX</td>\n",
       "      <td>Porto Alegre</td>\n",
       "      <td>-51.212353</td>\n",
       "      <td>-30.031055</td>\n",
       "      <td>-51.20878</td>\n",
       "      <td>-30.02914</td>\n",
       "      <td>0</td>\n",
       "    </tr>\n",
       "  </tbody>\n",
       "</table>\n",
       "</div>"
      ],
      "text/plain": [
       "    Ano           Marca     Município    x roubo    y roubo  x recuperacao  \\\n",
       "0  2005  FIAT/TEMPRA SX  Porto Alegre -51.212353 -30.031055      -51.20878   \n",
       "\n",
       "   y recuperacao  Clusters  \n",
       "0      -30.02914         0  "
      ]
     },
     "execution_count": 21,
     "metadata": {},
     "output_type": "execute_result"
    }
   ],
   "source": [
    "dfPoa.head(1)"
   ]
  },
  {
   "cell_type": "code",
   "execution_count": 23,
   "metadata": {},
   "outputs": [],
   "source": [
    "from folium import plugins"
   ]
  },
  {
   "cell_type": "code",
   "execution_count": 24,
   "metadata": {},
   "outputs": [],
   "source": [
    "coresMarkers = [['red', 'blue'], \n",
    "              ['green','purple'],\n",
    "              ['orange', 'lightgray'],\n",
    "              [ 'lightred', 'beige'], \n",
    "              ['darkblue', 'darkgreen'], \n",
    "              ['cadetblue', 'darkpurple'], \n",
    "              ['white','black'], \n",
    "              ['pink', 'lightblue'], \n",
    "              ['lightgreen','gray']]\n",
    "grdHm =[['blue','lime','red'],['purple', 'dark', 'red']]\n"
   ]
  },
  {
   "cell_type": "code",
   "execution_count": 26,
   "metadata": {},
   "outputs": [],
   "source": [
    "mapaPoa = fl.Map(location=[-30.013360,-51.177189],zoom_start=10)\n",
    "latlong_ro=[]\n",
    "latlong_rc=[]\n",
    "\n",
    "#preenche array com quantidade de clusters que teremos\n",
    "latlongro=[]\n",
    "for x in range(n1):\n",
    "    latlong_ro.append([[x,x]])\n",
    "    latlong_rc.append([[x,x]])\n",
    "    \n",
    "for xro,yro,xrc,yrc,clust in zip(dfPoa['x roubo'],dfPoa['y roubo'],dfPoa['x recuperacao'],dfPoa['y recuperacao'],dfPoa['Clusters']):\n",
    "    latlong_ro[clust].append([yro, xro])\n",
    "    latlong_rc[clust].append([yrc, xrc])\n",
    "    \n",
    "aux = 0\n",
    "for z,w in zip(latlong_ro, latlong_rc):\n",
    "    layRo = 'Roubo' + str(aux)\n",
    "    layRc = 'Recup.' + str(aux)\n",
    "    aux= aux +1\n",
    "    mapaPoa.add_child(plugins.HeatMap(z[1:],name =layRo, radius = 16))                   \n",
    "    mapaPoa.add_child(plugins.HeatMap(w[1:],name =layRc, radius = 16))\n",
    "                      \n",
    "fl.LayerControl().add_to(mapaPoa)                       \n",
    "mapaPoa\n",
    "mapaPoa.save('mapa.html')"
   ]
  },
  {
   "cell_type": "code",
   "execution_count": 245,
   "metadata": {},
   "outputs": [],
   "source": [
    "dfPoa_copy = dfPoa"
   ]
  },
  {
   "cell_type": "code",
   "execution_count": null,
   "metadata": {},
   "outputs": [],
   "source": []
  },
  {
   "cell_type": "code",
   "execution_count": null,
   "metadata": {},
   "outputs": [],
   "source": [
    "dfCP0=dfPoa.loc[dfPoa['Clusters']==0]\n",
    "dfCP1=dfPoa.loc[dfPoa['Clusters']==1]\n",
    "dfCP2=dfPoa.loc[dfPoa['Clusters']==2]\n",
    "dfCP3=dfPoa.loc[dfPoa['Clusters']==3]\n",
    "dfCP4=dfPoa.loc[dfPoa['Clusters']==4]\n",
    "dfCP5=dfPoa.loc[dfPoa['Clusters']==5]\n",
    "dfCP6=dfPoa.loc[dfPoa['Clusters']==6]\n",
    "dfCP7=dfPoa.loc[dfPoa['Clusters']==7]"
   ]
  },
  {
   "cell_type": "code",
   "execution_count": null,
   "metadata": {},
   "outputs": [],
   "source": [
    "mapa2 = fl.Map(location=[-29.923360,-51.177189],zoom_start=10)\n",
    "i=0\n",
    "for xro,yro,xrc,yrc in zip(dfCP0['x roubo'],dfCP0['y roubo'],dfCP0['x recuperacao'],dfCP0['y recuperacao']):\n",
    "    fl.Marker(location=[yro, xro], icon = fl.Icon(color='green')).add_to(mapa2)\n",
    "    fl.Marker(location=[yrc, xrc], icon = fl.Icon(color='red')).add_to(mapa2)\n",
    "    i = i+1\n",
    "    if i ==1300:\n",
    "        break\n",
    "#folium.Marker(location=[-30.048990,-51.215390], icon = folium.Icon(color='green')).add_to(mapa)    \n",
    "    #folium.Marker(location=[xrc, yrc], icon = folium.Icon(color='green')).add_to(mapa)\n",
    "#mapa2"
   ]
  }
 ],
 "metadata": {
  "kernelspec": {
   "display_name": "Python 3",
   "language": "python",
   "name": "python3"
  },
  "language_info": {
   "codemirror_mode": {
    "name": "ipython",
    "version": 3
   },
   "file_extension": ".py",
   "mimetype": "text/x-python",
   "name": "python",
   "nbconvert_exporter": "python",
   "pygments_lexer": "ipython3",
   "version": "3.7.3"
  }
 },
 "nbformat": 4,
 "nbformat_minor": 2
}
