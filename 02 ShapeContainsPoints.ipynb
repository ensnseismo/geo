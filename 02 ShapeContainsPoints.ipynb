{
 "cells": [
  {
   "cell_type": "code",
   "execution_count": 1,
   "metadata": {},
   "outputs": [],
   "source": [
    "import folium\n",
    "from folium import plugins\n",
    "import pandas as pd\n",
    "import numpy as np\n",
    "import json\n",
    "import geopandas as gp\n",
    "from shapely.geometry import Point\n",
    "from shapely.geometry.polygon import Polygon\n",
    "import geojson\n",
    "import requests\n",
    "import openpyxl"
   ]
  },
  {
   "cell_type": "code",
   "execution_count": 2,
   "metadata": {},
   "outputs": [],
   "source": [
    "def coordToArray(geopdcoord):\n",
    "    j = geopdcoord.replace(\"POINT (\",\"\") #remove palavra POINT (\n",
    "    i = j.replace(\")\",\"\").split(\" \") # remove ultimo parenteses e splita o que sobrou resultando num array com as 2 coord\n",
    "    ponto = Point(float(i[0]),float(i[1]))\n",
    "    return ponto"
   ]
  },
  {
   "cell_type": "code",
   "execution_count": null,
   "metadata": {},
   "outputs": [],
   "source": [
    "df = pd.read_excel(\"Georreferenciado.xlsx\")"
   ]
  },
  {
   "cell_type": "code",
   "execution_count": 16,
   "metadata": {},
   "outputs": [],
   "source": [
    "#transforma coluna de geocode em um array com objetos do tipo point\n",
    "geopoint = []\n",
    "for ponto in df[\"Geocode Novo\"]:\n",
    "    geopoint.append(coordToArray(ponto))"
   ]
  },
  {
   "cell_type": "code",
   "execution_count": 2,
   "metadata": {},
   "outputs": [],
   "source": [
    "###### VERIFICAR SE PONTOS ESTÂO DENTRO DOS POLÍGONOS######################################################\n",
    "cidades = {'municípios':['Porto Alegre',\n",
    "                         'Canoas',\n",
    "                         'Viamão',\n",
    "                         'Cachoeirinha',\n",
    "                         'Gravataí',\n",
    "                         'São Leopoldo',\n",
    "                         'Novo Hamburgo',\n",
    "                         'Alvorada',\n",
    "                         'Sapucaia do Sul',\n",
    "                         'Guaíba',\n",
    "                         'Eldorado do Sul',\n",
    "                         'Esteio'],\n",
    "           'código':[4314902,\n",
    "                     4304606,\n",
    "                     4323002,\n",
    "                     4303103,\n",
    "                     4309209,\n",
    "                     4318705,\n",
    "                     4313409,\n",
    "                     4300604,\n",
    "                     4320008,\n",
    "                     4309308,\n",
    "                     4306767,\n",
    "                     4307708]}     \n",
    "       \n",
    "dfCodCidades =pd.DataFrame(cidades)"
   ]
  },
  {
   "cell_type": "code",
   "execution_count": 3,
   "metadata": {},
   "outputs": [],
   "source": [
    "#configuração para acessar ibge\n",
    "headers = {\n",
    "    'Content-Type': 'application/json;charset=UTF-8',\n",
    "    'User-Agent': 'google-colab',\n",
    "    'Accept': 'application/json, text/plain, */*',\n",
    "    'Accept-Encoding': 'gzip, deflate, br',\n",
    "    'Accept-Language': 'pt-BR,pt;q=0.9,en-US;q=0.8,en;q=0.7',\n",
    "    'Connection': 'keep-alive',\n",
    "}\n",
    "#loop para buscar shapes e armazenar em um DataFrame\n",
    "arrayShapes = []\n",
    "for cod in cidades['código']:\n",
    "    #request via API ao site do IBGE\n",
    "    shapes = requests.get(\"https://servicodados.ibge.gov.br/api/v2/malhas/\"+str(cod)+\"/?formato=application/vnd.geo+json&resolucao=5\",\n",
    "                              headers=headers)\n",
    "    #atribui string json do shape para variável\n",
    "    arrayShapes.append(Polygon(list(geojson.utils.coords(shapes.json()))))\n",
    "    \n",
    "dfCodCidades['ShapesIBGE'] = arrayShapes"
   ]
  },
  {
   "cell_type": "code",
   "execution_count": 220,
   "metadata": {},
   "outputs": [
    {
     "data": {
      "text/html": [
       "<div>\n",
       "<style scoped>\n",
       "    .dataframe tbody tr th:only-of-type {\n",
       "        vertical-align: middle;\n",
       "    }\n",
       "\n",
       "    .dataframe tbody tr th {\n",
       "        vertical-align: top;\n",
       "    }\n",
       "\n",
       "    .dataframe thead th {\n",
       "        text-align: right;\n",
       "    }\n",
       "</style>\n",
       "<table border=\"1\" class=\"dataframe\">\n",
       "  <thead>\n",
       "    <tr style=\"text-align: right;\">\n",
       "      <th></th>\n",
       "      <th>municípios</th>\n",
       "      <th>código</th>\n",
       "      <th>ShapesIBGE</th>\n",
       "    </tr>\n",
       "  </thead>\n",
       "  <tbody>\n",
       "    <tr>\n",
       "      <th>0</th>\n",
       "      <td>Porto Alegre</td>\n",
       "      <td>4314902</td>\n",
       "      <td>POLYGON ((-51.2336 -29.9377, -51.2206 -29.967,...</td>\n",
       "    </tr>\n",
       "    <tr>\n",
       "      <th>1</th>\n",
       "      <td>Canoas</td>\n",
       "      <td>4304606</td>\n",
       "      <td>POLYGON ((-51.123 -29.8663, -51.106 -29.9024, ...</td>\n",
       "    </tr>\n",
       "    <tr>\n",
       "      <th>2</th>\n",
       "      <td>Viamão</td>\n",
       "      <td>4323002</td>\n",
       "      <td>POLYGON ((-50.9493 -29.9665, -50.9144 -30.0028...</td>\n",
       "    </tr>\n",
       "    <tr>\n",
       "      <th>3</th>\n",
       "      <td>Cachoeirinha</td>\n",
       "      <td>4303103</td>\n",
       "      <td>POLYGON ((-51.1012 -29.8687, -51.1008 -29.8692...</td>\n",
       "    </tr>\n",
       "    <tr>\n",
       "      <th>4</th>\n",
       "      <td>Gravataí</td>\n",
       "      <td>4309209</td>\n",
       "      <td>POLYGON ((-50.8121 -29.7742, -50.8139 -29.7842...</td>\n",
       "    </tr>\n",
       "    <tr>\n",
       "      <th>5</th>\n",
       "      <td>São Leopoldo</td>\n",
       "      <td>4318705</td>\n",
       "      <td>POLYGON ((-51.0681 -29.8112, -51.1367 -29.799,...</td>\n",
       "    </tr>\n",
       "    <tr>\n",
       "      <th>6</th>\n",
       "      <td>Novo Hamburgo</td>\n",
       "      <td>4313409</td>\n",
       "      <td>POLYGON ((-51.1346 -29.638, -51.1298 -29.6385,...</td>\n",
       "    </tr>\n",
       "    <tr>\n",
       "      <th>7</th>\n",
       "      <td>Alvorada</td>\n",
       "      <td>4300604</td>\n",
       "      <td>POLYGON ((-50.9493 -29.9665, -50.9624 -29.9901...</td>\n",
       "    </tr>\n",
       "    <tr>\n",
       "      <th>8</th>\n",
       "      <td>Sapucaia do Sul</td>\n",
       "      <td>4320008</td>\n",
       "      <td>POLYGON ((-51.1896 -29.7785, -51.1657 -29.7991...</td>\n",
       "    </tr>\n",
       "    <tr>\n",
       "      <th>9</th>\n",
       "      <td>Guaíba</td>\n",
       "      <td>4309308</td>\n",
       "      <td>POLYGON ((-51.3025 -30.054, -51.3125 -30.0858,...</td>\n",
       "    </tr>\n",
       "    <tr>\n",
       "      <th>10</th>\n",
       "      <td>Eldorado do Sul</td>\n",
       "      <td>4306767</td>\n",
       "      <td>POLYGON ((-51.2718 -30.0389, -51.2681 -30.0164...</td>\n",
       "    </tr>\n",
       "    <tr>\n",
       "      <th>11</th>\n",
       "      <td>Esteio</td>\n",
       "      <td>4307708</td>\n",
       "      <td>POLYGON ((-51.1012 -29.8687, -51.123 -29.8663,...</td>\n",
       "    </tr>\n",
       "  </tbody>\n",
       "</table>\n",
       "</div>"
      ],
      "text/plain": [
       "         municípios   código  \\\n",
       "0      Porto Alegre  4314902   \n",
       "1            Canoas  4304606   \n",
       "2            Viamão  4323002   \n",
       "3      Cachoeirinha  4303103   \n",
       "4          Gravataí  4309209   \n",
       "5      São Leopoldo  4318705   \n",
       "6     Novo Hamburgo  4313409   \n",
       "7          Alvorada  4300604   \n",
       "8   Sapucaia do Sul  4320008   \n",
       "9            Guaíba  4309308   \n",
       "10  Eldorado do Sul  4306767   \n",
       "11           Esteio  4307708   \n",
       "\n",
       "                                           ShapesIBGE  \n",
       "0   POLYGON ((-51.2336 -29.9377, -51.2206 -29.967,...  \n",
       "1   POLYGON ((-51.123 -29.8663, -51.106 -29.9024, ...  \n",
       "2   POLYGON ((-50.9493 -29.9665, -50.9144 -30.0028...  \n",
       "3   POLYGON ((-51.1012 -29.8687, -51.1008 -29.8692...  \n",
       "4   POLYGON ((-50.8121 -29.7742, -50.8139 -29.7842...  \n",
       "5   POLYGON ((-51.0681 -29.8112, -51.1367 -29.799,...  \n",
       "6   POLYGON ((-51.1346 -29.638, -51.1298 -29.6385,...  \n",
       "7   POLYGON ((-50.9493 -29.9665, -50.9624 -29.9901...  \n",
       "8   POLYGON ((-51.1896 -29.7785, -51.1657 -29.7991...  \n",
       "9   POLYGON ((-51.3025 -30.054, -51.3125 -30.0858,...  \n",
       "10  POLYGON ((-51.2718 -30.0389, -51.2681 -30.0164...  \n",
       "11  POLYGON ((-51.1012 -29.8687, -51.123 -29.8663,...  "
      ]
     },
     "execution_count": 220,
     "metadata": {},
     "output_type": "execute_result"
    }
   ],
   "source": [
    "dfCodCidades.head(1)"
   ]
  },
  {
   "cell_type": "code",
   "execution_count": 240,
   "metadata": {},
   "outputs": [
    {
     "data": {
      "image/svg+xml": [
       "<svg xmlns=\"http://www.w3.org/2000/svg\" xmlns:xlink=\"http://www.w3.org/1999/xlink\" width=\"100.0\" height=\"100.0\" viewBox=\"-51.593492 -30.288992 0.3021839999999969 0.24618400000000307\" preserveAspectRatio=\"xMinYMin meet\"><g transform=\"matrix(1,0,0,-1,0,-60.3318)\"><path fill-rule=\"evenodd\" fill=\"#66cc99\" stroke=\"#555555\" stroke-width=\"0.006043679999999938\" opacity=\"0.6\" d=\"M -51.3025,-30.054 L -51.3125,-30.0858 L -51.3142,-30.1148 L -51.3068,-30.1329 L -51.3247,-30.1675 L -51.3107,-30.1825 L -51.3286,-30.2266 L -51.362,-30.2215 L -51.3684,-30.2297 L -51.4059,-30.2298 L -51.4077,-30.2685 L -51.4217,-30.254 L -51.4465,-30.2524 L -51.4833,-30.2612 L -51.5022,-30.2594 L -51.5158,-30.2729 L -51.5296,-30.2778 L -51.5818,-30.2572 L -51.575,-30.2343 L -51.5823,-30.2127 L -51.5592,-30.2035 L -51.5415,-30.1812 L -51.5364,-30.1514 L -51.4958,-30.1316 L -51.4949,-30.1235 L -51.4632,-30.1174 L -51.44,-30.0954 L -51.3943,-30.1015 L -51.3722,-30.0974 L -51.3446,-30.0627 L -51.3025,-30.054 z\" /></g></svg>"
      ],
      "text/plain": [
       "<shapely.geometry.polygon.Polygon at 0x1741e770ef0>"
      ]
     },
     "execution_count": 240,
     "metadata": {},
     "output_type": "execute_result"
    }
   ],
   "source": [
    "dfCodCidades.loc[dfCodCidades['municípios']=='Guaíba'].iloc[0][2] #teste"
   ]
  },
  {
   "cell_type": "code",
   "execution_count": null,
   "metadata": {},
   "outputs": [],
   "source": [
    "#loop  para verificar se coordenadas estão dentro de um polígono\n",
    "ajuste = []\n",
    "for x, y in zip(df['Município'], df['Geocode Novo']):\n",
    "    #procura no df na a coluna onde o o municipio é igual x e retorna o valor da terceira coluna que tem os Shapes do IBGE\n",
    "    poly = dfCodCidades.loc[dfCodCidades['municípios']==x].iloc[0][2]\n",
    "    #verifica se o ponto y  está n dentro do shape da cidade e adicona o resulatado em um array\n",
    "    ajuste.append(poly.contains(coordToArray(y)))"
   ]
  },
  {
   "cell_type": "code",
   "execution_count": null,
   "metadata": {},
   "outputs": [],
   "source": [
    "df['Ajustar Coordenadas'] = ajuste"
   ]
  },
  {
   "cell_type": "code",
   "execution_count": 248,
   "metadata": {},
   "outputs": [],
   "source": [
    "with pd.ExcelWriter('Georreferenciado.xlsx', mode='a', engine='openpyxl') as writer: \n",
    "    df.to_excel(writer, sheet_name='CoordAdjust')"
   ]
  }
 ],
 "metadata": {
  "kernelspec": {
   "display_name": "Python 3",
   "language": "python",
   "name": "python3"
  },
  "language_info": {
   "codemirror_mode": {
    "name": "ipython",
    "version": 3
   },
   "file_extension": ".py",
   "mimetype": "text/x-python",
   "name": "python",
   "nbconvert_exporter": "python",
   "pygments_lexer": "ipython3",
   "version": "3.6.7"
  }
 },
 "nbformat": 4,
 "nbformat_minor": 2
}
