{
 "cells": [
  {
   "cell_type": "code",
   "execution_count": 1,
   "metadata": {},
   "outputs": [],
   "source": [
    "import pandas as pd\n",
    "import openpyxl as xl\n",
    "from shapely.geometry import Point\n",
    "from shapely.geometry.polygon import Polygon\n",
    "import json\n",
    "import geojson\n",
    "import requests"
   ]
  },
  {
   "cell_type": "code",
   "execution_count": 2,
   "metadata": {},
   "outputs": [],
   "source": [
    "df = pd.read_excel('Georreferenciado.xlsx', sheet_name='CoordAdjust')"
   ]
  },
  {
   "cell_type": "code",
   "execution_count": null,
   "metadata": {},
   "outputs": [],
   "source": [
    "df.head(1)"
   ]
  },
  {
   "cell_type": "code",
   "execution_count": null,
   "metadata": {},
   "outputs": [],
   "source": [
    "df1 = df.drop(columns='indice')\n",
    "df1.head(1)"
   ]
  },
  {
   "cell_type": "code",
   "execution_count": 5,
   "metadata": {},
   "outputs": [],
   "source": [
    "df2 = pd.read_excel('RouboRecupVec2.xlsx')"
   ]
  },
  {
   "cell_type": "code",
   "execution_count": 6,
   "metadata": {},
   "outputs": [
    {
     "data": {
      "text/plain": [
       "(512081, 21)"
      ]
     },
     "execution_count": 6,
     "metadata": {},
     "output_type": "execute_result"
    }
   ],
   "source": [
    "df2.head(1)\n",
    "df2.shape"
   ]
  },
  {
   "cell_type": "code",
   "execution_count": 12,
   "metadata": {},
   "outputs": [],
   "source": [
    "filtro = (pd.notna(df2['Geocode'])&\n",
    "          (df2['Tipo Fato']=='Consumado') &\n",
    "          ((df2['Município']=='Porto Alegre')|\n",
    "          (df2['Município']=='Canoas')|\n",
    "          (df2['Município']=='Viamão')|\n",
    "          (df2['Município']=='Cachoeirinha')|\n",
    "          (df2['Município']=='Gravataí')|\n",
    "          (df2['Município']=='São Leopoldo')|\n",
    "          (df2['Município']=='Novo Hamburgo')|\n",
    "          (df2['Município']=='Alvorada')|\n",
    "          (df2['Município']=='Sapucaia do Sul')|\n",
    "          (df2['Município']=='Guaíba')|\n",
    "          (df2['Município']=='Eldorado do Sul')|\n",
    "          (df2['Município']=='Esteio')))"
   ]
  },
  {
   "cell_type": "code",
   "execution_count": 13,
   "metadata": {},
   "outputs": [
    {
     "data": {
      "text/plain": [
       "(71332, 21)"
      ]
     },
     "execution_count": 13,
     "metadata": {},
     "output_type": "execute_result"
    }
   ],
   "source": [
    "df3 = df2.loc[filtro]\n",
    "df3.shape"
   ]
  },
  {
   "cell_type": "code",
   "execution_count": 14,
   "metadata": {},
   "outputs": [
    {
     "data": {
      "text/plain": [
       "(13612, 21)"
      ]
     },
     "execution_count": 14,
     "metadata": {},
     "output_type": "execute_result"
    }
   ],
   "source": [
    "filtro2=(pd.notna(df2['Geocode'])&\n",
    "          (df2['Tipo Fato']=='Consumado') &\n",
    "          (df2['Município']=='Porto Alegre') & (df2.Ano==2018))\n",
    "dfT = df2.loc[filtro2]\n",
    "dfT.shape"
   ]
  },
  {
   "cell_type": "code",
   "execution_count": 15,
   "metadata": {},
   "outputs": [],
   "source": [
    "def coordToArray(geopdcoord):\n",
    "    i = geopdcoord.split(\",\") # splita resultando num array com as 2 coord\n",
    "    ponto = Point(float(i[1]),float(i[0])) #ordem invertida - base original lat long, programas funcionam long lat\n",
    "    return ponto"
   ]
  },
  {
   "cell_type": "code",
   "execution_count": 16,
   "metadata": {},
   "outputs": [
    {
     "data": {
      "text/plain": [
       "71332"
      ]
     },
     "execution_count": 16,
     "metadata": {},
     "output_type": "execute_result"
    }
   ],
   "source": [
    "coordenadas = []\n",
    "for coord in df3['Geocode']:\n",
    "    coordenadas.append(coordToArray(str(coord)))\n",
    "len(coordenadas)"
   ]
  },
  {
   "cell_type": "code",
   "execution_count": null,
   "metadata": {},
   "outputs": [],
   "source": [
    "df3['Geocode Novo'] = coordenadas\n",
    "df3['Geocode Novo'].shape"
   ]
  },
  {
   "cell_type": "code",
   "execution_count": null,
   "metadata": {},
   "outputs": [],
   "source": [
    "df3.head(3)"
   ]
  },
  {
   "cell_type": "code",
   "execution_count": 19,
   "metadata": {},
   "outputs": [],
   "source": [
    "cidades = {'municípios':['Porto Alegre',\n",
    "                         'Canoas',\n",
    "                         'Viamão',\n",
    "                         'Cachoeirinha',\n",
    "                         'Gravataí',\n",
    "                         'São Leopoldo',\n",
    "                         'Novo Hamburgo',\n",
    "                         'Alvorada',\n",
    "                         'Sapucaia do Sul',\n",
    "                         'Guaíba',\n",
    "                         'Eldorado do Sul',\n",
    "                         'Esteio'],\n",
    "           'código':[4314902,\n",
    "                     4304606,\n",
    "                     4323002,\n",
    "                     4303103,\n",
    "                     4309209,\n",
    "                     4318705,\n",
    "                     4313409,\n",
    "                     4300604,\n",
    "                     4320008,\n",
    "                     4309308,\n",
    "                     4306767,\n",
    "                     4307708]}     \n",
    "       \n",
    "dfCodCidades =pd.DataFrame(cidades)"
   ]
  },
  {
   "cell_type": "code",
   "execution_count": 20,
   "metadata": {},
   "outputs": [],
   "source": [
    "headers = {\n",
    "    'Content-Type': 'application/json;charset=UTF-8',\n",
    "    'User-Agent': 'google-colab',\n",
    "    'Accept': 'application/json, text/plain, */*',\n",
    "    'Accept-Encoding': 'gzip, deflate, br',\n",
    "    'Accept-Language': 'pt-BR,pt;q=0.9,en-US;q=0.8,en;q=0.7',\n",
    "    'Connection': 'keep-alive',\n",
    "}\n",
    "\n",
    "arrayShapes = []\n",
    "for cod in cidades['código']:\n",
    "    shapes = requests.get(\"https://servicodados.ibge.gov.br/api/v2/malhas/\"+str(cod)+\"/?formato=application/vnd.geo+json&resolucao=5\",\n",
    "                              headers=headers)\n",
    "    #atribui string json do shape para variável\n",
    "    arrayShapes.append(Polygon(list(geojson.utils.coords(shapes.json()))))\n",
    "    \n",
    "dfCodCidades['ShapesIBGE'] = arrayShapes"
   ]
  },
  {
   "cell_type": "code",
   "execution_count": 21,
   "metadata": {},
   "outputs": [],
   "source": [
    "ajuste = []\n",
    "for x, y in zip(df3['Município'], df3['Geocode Novo']):\n",
    "    #procura no df na a coluna onde o o municipio é igual x e retorna o valor da terceira coluna que tem os Shapes do IBGE\n",
    "    poly = dfCodCidades.loc[dfCodCidades['municípios']==x].iloc[0][2]\n",
    "    #verifica se o ponto y  está n dentro do shape da cidade e adicona o resulatado em um array\n",
    "    ajuste.append(poly.contains(y))"
   ]
  },
  {
   "cell_type": "code",
   "execution_count": 22,
   "metadata": {},
   "outputs": [],
   "source": [
    "df3 = df3.drop(columns='Ajustar Coordenadas') #deleta antiga coluna ajustar colunas\n",
    "df3['Ajustar Coordenadas'] = ajuste #adicona nova coluna com a classificação"
   ]
  },
  {
   "cell_type": "code",
   "execution_count": 28,
   "metadata": {},
   "outputs": [
    {
     "data": {
      "text/plain": [
       "(58, 21)"
      ]
     },
     "execution_count": 28,
     "metadata": {},
     "output_type": "execute_result"
    }
   ],
   "source": [
    "filtro23=((df1['Tipo Fato']=='Consumado') &\n",
    "          (df1['Município']=='Porto Alegre')& (df1.Ano==2018))\n",
    "dfT1 = df1.loc[filtro23]\n",
    "dfT1.shape"
   ]
  },
  {
   "cell_type": "code",
   "execution_count": 31,
   "metadata": {},
   "outputs": [],
   "source": [
    "#base com dados procergs + minha compilação\n",
    "df4 = df1\n",
    "dfJoinned = df4.append(df3, ignore_index = True)"
   ]
  },
  {
   "cell_type": "code",
   "execution_count": 33,
   "metadata": {},
   "outputs": [],
   "source": [
    "with pd.ExcelWriter('BaseGeorrefProcergsLucas.xlsx') as writer: \n",
    "    dfJoinned.to_excel(writer, sheet_name='Base')"
   ]
  },
  {
   "cell_type": "code",
   "execution_count": 36,
   "metadata": {},
   "outputs": [],
   "source": [
    "#separando roubo e recuperacao, e apenas coordenadas corretas\n",
    "filtro2 = ((dfJoinned['Fato']!=\"RECUPERACAO DE VEICULO\") & (dfJoinned['Ajustar Coordenadas']==True))\n",
    "dfRoubo = dfJoinned.loc[filtro2]\n",
    "filtro3 = ((dfJoinned['Fato']==\"RECUPERACAO DE VEICULO\") & (dfJoinned['Ajustar Coordenadas']==True))\n",
    "dfRecup = dfJoinned.loc[filtro3]"
   ]
  },
  {
   "cell_type": "code",
   "execution_count": 37,
   "metadata": {},
   "outputs": [
    {
     "name": "stdout",
     "output_type": "stream",
     "text": [
      "Base de Roubo a veículo: (105218, 21) /n base Recuperação (106943, 21)\n"
     ]
    }
   ],
   "source": [
    "print('Base de Roubo a veículo: {} /n base Recuperação {}'.format(dfRoubo.shape,dfRecup.shape))"
   ]
  },
  {
   "cell_type": "code",
   "execution_count": null,
   "metadata": {},
   "outputs": [],
   "source": [
    "dfRecup2 = dfRecup.drop(columns=['Ano Registro','Número Inteiro Ocorrência','Bairro Fato','Geocode','Tipo Fato','Ajustar Coordenadas','STATUS'])\n",
    "#mudando o nome das colunas para poder fazer o merge sem perdas depois\n",
    "dfRecup2.columns =['ÓrgReg',\n",
    "                  'ano recup',\n",
    "                  'Hora recup',\n",
    "                  'Placa',\n",
    "                  'marca',\n",
    "                  'Tipo Veíc',\n",
    "                  'Ano Fabr',\n",
    "                  'Ano Model',\n",
    "                  'Mun recup',\n",
    "                  'Dt recup',\n",
    "                  'Rua recup',\n",
    "                  'Nro recup',\n",
    "                  'fato',\n",
    "                  'Geocode recup']\n",
    "dfRecup2.head(2)"
   ]
  },
  {
   "cell_type": "code",
   "execution_count": 40,
   "metadata": {},
   "outputs": [],
   "source": [
    "#COMBINANDO LINHAS DE ROUBO COM LINHAS DE RECUPERAÇAO\n",
    "dfRoubo.set_index('Placa')\n",
    "dfRecup2.set_index('Placa')\n",
    "dfRelacao = pd.merge(dfRoubo,dfRecup2)"
   ]
  },
  {
   "cell_type": "code",
   "execution_count": 41,
   "metadata": {},
   "outputs": [
    {
     "data": {
      "text/plain": [
       "Index(['Órgão Registro', 'Ano Registro', 'Número Inteiro Ocorrência', 'Ano',\n",
       "       'Hora Minuto', 'Bairro Fato', 'Geocode', 'Placa', 'Marca',\n",
       "       'Tipo de Veículo', 'Ano Fabricação', 'Ano Modelo', 'Município',\n",
       "       'Data Fato', 'Nome Rua', 'Nro', 'Tipo Fato', 'Fato', 'Geocode Novo',\n",
       "       'STATUS', 'Ajustar Coordenadas', 'ÓrgReg', 'ano recup', 'Hora recup',\n",
       "       'marca', 'Tipo Veíc', 'Ano Fabr', 'Ano Model', 'Mun recup', 'Dt recup',\n",
       "       'Rua recup', 'Nro recup', 'fato', 'Geocode recup'],\n",
       "      dtype='object')"
      ]
     },
     "execution_count": 41,
     "metadata": {},
     "output_type": "execute_result"
    }
   ],
   "source": [
    "dfRelacao.columns"
   ]
  },
  {
   "cell_type": "code",
   "execution_count": null,
   "metadata": {},
   "outputs": [],
   "source": [
    "dfRel = dfRelacao.drop(columns=['Ano Registro',\n",
    "                                'Número Inteiro Ocorrência',\n",
    "                                'Bairro Fato',\n",
    "                                'Geocode',\n",
    "                                'Tipo Fato',\n",
    "                                'Ajustar Coordenadas',\n",
    "                                'STATUS',\n",
    "                                'Bairro Fato',\n",
    "                                'Ano Fabr', \n",
    "                                'Ano Model',\n",
    "                                'Tipo Fato',\n",
    "                                'Rua recup', \n",
    "                                'Nro recup',\n",
    "                                'Tipo de Veículo',\n",
    "                                'Ano Fabricação', \n",
    "                                'Ano Modelo',\n",
    "                                'Tipo Veíc', \n",
    "                                'Ano Fabr', \n",
    "                                'Ano Model',\n",
    "                                'ÓrgReg',\n",
    "                                'marca'])\n",
    "dfRel.head(2)"
   ]
  },
  {
   "cell_type": "code",
   "execution_count": 51,
   "metadata": {},
   "outputs": [],
   "source": [
    "def coordToPoint(geopdcoord):\n",
    "    cd = str(geopdcoord)\n",
    "    j = cd.replace(\"POINT (\",\"\") #remove palavra POINT (\n",
    "    i = j.replace(\")\",\"\").split(\" \") # remove ultimo parenteses e splita o que sobrou resultando num array com as 2 coord\n",
    "    ponto = Point(float(i[0]),float(i[1]))\n",
    "    return ponto"
   ]
  },
  {
   "cell_type": "code",
   "execution_count": 52,
   "metadata": {},
   "outputs": [],
   "source": [
    "roubox = []\n",
    "rouboy = []\n",
    "recupx = []\n",
    "recupy = []\n",
    "\n",
    "for roubo,recup in zip(dfRel['Geocode Novo'],dfRel['Geocode recup']):\n",
    "    #print(recup)\n",
    "    #break\n",
    "    roubox.append(coordToPoint(roubo).x)\n",
    "    rouboy.append(coordToPoint(roubo).y)\n",
    "    recupx.append(coordToPoint(recup).x)\n",
    "    recupy.append(coordToPoint(recup).y)"
   ]
  },
  {
   "cell_type": "code",
   "execution_count": 58,
   "metadata": {},
   "outputs": [],
   "source": [
    "dfAnalise=dfRel.drop(columns=['Geocode Novo','Geocode recup'])\n",
    "dfAnalise['x roubo'] = roubox\n",
    "dfAnalise['y roubo'] = rouboy\n",
    "dfAnalise['x recuperacao'] = recupx\n",
    "dfAnalise['y recuperacao'] = recupy"
   ]
  },
  {
   "cell_type": "code",
   "execution_count": 60,
   "metadata": {},
   "outputs": [
    {
     "data": {
      "text/plain": [
       "(46606, 19)"
      ]
     },
     "execution_count": 60,
     "metadata": {},
     "output_type": "execute_result"
    }
   ],
   "source": [
    "dfAnalise.head(3)"
   ]
  },
  {
   "cell_type": "code",
   "execution_count": 61,
   "metadata": {},
   "outputs": [],
   "source": [
    "with pd.ExcelWriter('Relacao_Roubo_Recup.xlsx') as writer: \n",
    "    dfAnalise.to_excel(writer, sheet_name='Base')"
   ]
  },
  {
   "cell_type": "code",
   "execution_count": null,
   "metadata": {},
   "outputs": [],
   "source": []
  }
 ],
 "metadata": {
  "kernelspec": {
   "display_name": "Python 3",
   "language": "python",
   "name": "python3"
  },
  "language_info": {
   "codemirror_mode": {
    "name": "ipython",
    "version": 3
   },
   "file_extension": ".py",
   "mimetype": "text/x-python",
   "name": "python",
   "nbconvert_exporter": "python",
   "pygments_lexer": "ipython3",
   "version": "3.6.7"
  }
 },
 "nbformat": 4,
 "nbformat_minor": 2
}
