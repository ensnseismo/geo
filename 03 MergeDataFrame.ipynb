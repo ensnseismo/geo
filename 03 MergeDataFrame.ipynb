{
 "cells": [
  {
   "cell_type": "code",
   "execution_count": 1,
   "metadata": {},
   "outputs": [],
   "source": [
    "import pandas as pd\n",
    "import openpyxl as xl\n",
    "from shapely.geometry import Point\n",
    "from shapely.geometry.polygon import Polygon\n",
    "import json\n",
    "import geojson\n",
    "import requests"
   ]
  },
  {
   "cell_type": "code",
   "execution_count": 2,
   "metadata": {},
   "outputs": [],
   "source": [
    "df = pd.read_excel('Georreferenciado.xlsx', sheet_name='CoordAdjust')"
   ]
  },
  {
   "cell_type": "code",
   "execution_count": 3,
   "metadata": {},
   "outputs": [
    {
     "data": {
      "text/html": [
       "<div>\n",
       "<style scoped>\n",
       "    .dataframe tbody tr th:only-of-type {\n",
       "        vertical-align: middle;\n",
       "    }\n",
       "\n",
       "    .dataframe tbody tr th {\n",
       "        vertical-align: top;\n",
       "    }\n",
       "\n",
       "    .dataframe thead th {\n",
       "        text-align: right;\n",
       "    }\n",
       "</style>\n",
       "<table border=\"1\" class=\"dataframe\">\n",
       "  <thead>\n",
       "    <tr style=\"text-align: right;\">\n",
       "      <th></th>\n",
       "      <th>indice</th>\n",
       "      <th>Órgão Registro</th>\n",
       "      <th>Ano Registro</th>\n",
       "      <th>Número Inteiro Ocorrência</th>\n",
       "      <th>Ano</th>\n",
       "      <th>Hora Minuto</th>\n",
       "      <th>Bairro Fato</th>\n",
       "      <th>Geocode</th>\n",
       "      <th>Placa</th>\n",
       "      <th>Marca</th>\n",
       "      <th>...</th>\n",
       "      <th>Ano Modelo</th>\n",
       "      <th>Município</th>\n",
       "      <th>Data Fato</th>\n",
       "      <th>Nome Rua</th>\n",
       "      <th>Nro</th>\n",
       "      <th>Tipo Fato</th>\n",
       "      <th>Fato</th>\n",
       "      <th>Geocode Novo</th>\n",
       "      <th>STATUS</th>\n",
       "      <th>Ajustar Coordenadas</th>\n",
       "    </tr>\n",
       "  </thead>\n",
       "  <tbody>\n",
       "    <tr>\n",
       "      <th>0</th>\n",
       "      <td>0</td>\n",
       "      <td>100310</td>\n",
       "      <td>2005</td>\n",
       "      <td>8224</td>\n",
       "      <td>2005</td>\n",
       "      <td>21:00:00</td>\n",
       "      <td>NaN</td>\n",
       "      <td>NaN</td>\n",
       "      <td>LYG8322</td>\n",
       "      <td>FIAT/TEMPRA SX</td>\n",
       "      <td>...</td>\n",
       "      <td>1997</td>\n",
       "      <td>Porto Alegre</td>\n",
       "      <td>2005-07-27</td>\n",
       "      <td>JOAO TELLES</td>\n",
       "      <td>195</td>\n",
       "      <td>Consumado</td>\n",
       "      <td>ROUBO DE VEICULO</td>\n",
       "      <td>POINT (-51.2123532 -30.0310547)</td>\n",
       "      <td>NaN</td>\n",
       "      <td>True</td>\n",
       "    </tr>\n",
       "  </tbody>\n",
       "</table>\n",
       "<p>1 rows × 22 columns</p>\n",
       "</div>"
      ],
      "text/plain": [
       "   indice  Órgão Registro  Ano Registro  Número Inteiro Ocorrência   Ano  \\\n",
       "0       0          100310          2005                       8224  2005   \n",
       "\n",
       "  Hora Minuto Bairro Fato  Geocode    Placa           Marca  ... Ano Modelo  \\\n",
       "0    21:00:00         NaN      NaN  LYG8322  FIAT/TEMPRA SX  ...       1997   \n",
       "\n",
       "      Município  Data Fato     Nome Rua  Nro  Tipo Fato              Fato  \\\n",
       "0  Porto Alegre 2005-07-27  JOAO TELLES  195  Consumado  ROUBO DE VEICULO   \n",
       "\n",
       "                      Geocode Novo STATUS Ajustar Coordenadas  \n",
       "0  POINT (-51.2123532 -30.0310547)    NaN                True  \n",
       "\n",
       "[1 rows x 22 columns]"
      ]
     },
     "execution_count": 3,
     "metadata": {},
     "output_type": "execute_result"
    }
   ],
   "source": [
    "df.head(1)\n",
    "#df.shape\n",
    "#df.axes"
   ]
  },
  {
   "cell_type": "code",
   "execution_count": 4,
   "metadata": {},
   "outputs": [
    {
     "data": {
      "text/html": [
       "<div>\n",
       "<style scoped>\n",
       "    .dataframe tbody tr th:only-of-type {\n",
       "        vertical-align: middle;\n",
       "    }\n",
       "\n",
       "    .dataframe tbody tr th {\n",
       "        vertical-align: top;\n",
       "    }\n",
       "\n",
       "    .dataframe thead th {\n",
       "        text-align: right;\n",
       "    }\n",
       "</style>\n",
       "<table border=\"1\" class=\"dataframe\">\n",
       "  <thead>\n",
       "    <tr style=\"text-align: right;\">\n",
       "      <th></th>\n",
       "      <th>Órgão Registro</th>\n",
       "      <th>Ano Registro</th>\n",
       "      <th>Número Inteiro Ocorrência</th>\n",
       "      <th>Ano</th>\n",
       "      <th>Hora Minuto</th>\n",
       "      <th>Bairro Fato</th>\n",
       "      <th>Geocode</th>\n",
       "      <th>Placa</th>\n",
       "      <th>Marca</th>\n",
       "      <th>Tipo de Veículo</th>\n",
       "      <th>...</th>\n",
       "      <th>Ano Modelo</th>\n",
       "      <th>Município</th>\n",
       "      <th>Data Fato</th>\n",
       "      <th>Nome Rua</th>\n",
       "      <th>Nro</th>\n",
       "      <th>Tipo Fato</th>\n",
       "      <th>Fato</th>\n",
       "      <th>Geocode Novo</th>\n",
       "      <th>STATUS</th>\n",
       "      <th>Ajustar Coordenadas</th>\n",
       "    </tr>\n",
       "  </thead>\n",
       "  <tbody>\n",
       "    <tr>\n",
       "      <th>0</th>\n",
       "      <td>100310</td>\n",
       "      <td>2005</td>\n",
       "      <td>8224</td>\n",
       "      <td>2005</td>\n",
       "      <td>21:00:00</td>\n",
       "      <td>NaN</td>\n",
       "      <td>NaN</td>\n",
       "      <td>LYG8322</td>\n",
       "      <td>FIAT/TEMPRA SX</td>\n",
       "      <td>AUTOMOVEL</td>\n",
       "      <td>...</td>\n",
       "      <td>1997</td>\n",
       "      <td>Porto Alegre</td>\n",
       "      <td>2005-07-27</td>\n",
       "      <td>JOAO TELLES</td>\n",
       "      <td>195</td>\n",
       "      <td>Consumado</td>\n",
       "      <td>ROUBO DE VEICULO</td>\n",
       "      <td>POINT (-51.2123532 -30.0310547)</td>\n",
       "      <td>NaN</td>\n",
       "      <td>True</td>\n",
       "    </tr>\n",
       "  </tbody>\n",
       "</table>\n",
       "<p>1 rows × 21 columns</p>\n",
       "</div>"
      ],
      "text/plain": [
       "   Órgão Registro  Ano Registro  Número Inteiro Ocorrência   Ano Hora Minuto  \\\n",
       "0          100310          2005                       8224  2005    21:00:00   \n",
       "\n",
       "  Bairro Fato  Geocode    Placa           Marca Tipo de Veículo  ...  \\\n",
       "0         NaN      NaN  LYG8322  FIAT/TEMPRA SX       AUTOMOVEL  ...   \n",
       "\n",
       "   Ano Modelo     Município  Data Fato     Nome Rua  Nro  Tipo Fato  \\\n",
       "0        1997  Porto Alegre 2005-07-27  JOAO TELLES  195  Consumado   \n",
       "\n",
       "               Fato                     Geocode Novo STATUS  \\\n",
       "0  ROUBO DE VEICULO  POINT (-51.2123532 -30.0310547)    NaN   \n",
       "\n",
       "  Ajustar Coordenadas  \n",
       "0                True  \n",
       "\n",
       "[1 rows x 21 columns]"
      ]
     },
     "execution_count": 4,
     "metadata": {},
     "output_type": "execute_result"
    }
   ],
   "source": [
    "df1 = df.drop(columns='indice')\n",
    "df1.head(1)"
   ]
  },
  {
   "cell_type": "code",
   "execution_count": 5,
   "metadata": {},
   "outputs": [],
   "source": [
    "df2 = pd.read_excel('RouboRecupVec2.xlsx')"
   ]
  },
  {
   "cell_type": "code",
   "execution_count": 6,
   "metadata": {},
   "outputs": [
    {
     "data": {
      "text/plain": [
       "(512081, 21)"
      ]
     },
     "execution_count": 6,
     "metadata": {},
     "output_type": "execute_result"
    }
   ],
   "source": [
    "df2.head(1)\n",
    "df2.shape"
   ]
  },
  {
   "cell_type": "code",
   "execution_count": 12,
   "metadata": {},
   "outputs": [],
   "source": [
    "filtro = (pd.notna(df2['Geocode'])&\n",
    "          (df2['Tipo Fato']=='Consumado') &\n",
    "          ((df2['Município']=='Porto Alegre')|\n",
    "          (df2['Município']=='Canoas')|\n",
    "          (df2['Município']=='Viamão')|\n",
    "          (df2['Município']=='Cachoeirinha')|\n",
    "          (df2['Município']=='Gravataí')|\n",
    "          (df2['Município']=='São Leopoldo')|\n",
    "          (df2['Município']=='Novo Hamburgo')|\n",
    "          (df2['Município']=='Alvorada')|\n",
    "          (df2['Município']=='Sapucaia do Sul')|\n",
    "          (df2['Município']=='Guaíba')|\n",
    "          (df2['Município']=='Eldorado do Sul')|\n",
    "          (df2['Município']=='Esteio')))"
   ]
  },
  {
   "cell_type": "code",
   "execution_count": 13,
   "metadata": {},
   "outputs": [
    {
     "data": {
      "text/plain": [
       "(71332, 21)"
      ]
     },
     "execution_count": 13,
     "metadata": {},
     "output_type": "execute_result"
    }
   ],
   "source": [
    "df3 = df2.loc[filtro]\n",
    "df3.shape"
   ]
  },
  {
   "cell_type": "code",
   "execution_count": 14,
   "metadata": {},
   "outputs": [
    {
     "data": {
      "text/plain": [
       "(13612, 21)"
      ]
     },
     "execution_count": 14,
     "metadata": {},
     "output_type": "execute_result"
    }
   ],
   "source": [
    "filtro2=(pd.notna(df2['Geocode'])&\n",
    "          (df2['Tipo Fato']=='Consumado') &\n",
    "          (df2['Município']=='Porto Alegre') & (df2.Ano==2018))\n",
    "dfT = df2.loc[filtro2]\n",
    "dfT.shape"
   ]
  },
  {
   "cell_type": "code",
   "execution_count": 15,
   "metadata": {},
   "outputs": [],
   "source": [
    "def coordToArray(geopdcoord):\n",
    "    i = geopdcoord.split(\",\") # splita resultando num array com as 2 coord\n",
    "    ponto = Point(float(i[1]),float(i[0])) #ordem invertida - base original lat long, programas funcionam long lat\n",
    "    return ponto"
   ]
  },
  {
   "cell_type": "code",
   "execution_count": 16,
   "metadata": {},
   "outputs": [
    {
     "data": {
      "text/plain": [
       "71332"
      ]
     },
     "execution_count": 16,
     "metadata": {},
     "output_type": "execute_result"
    }
   ],
   "source": [
    "coordenadas = []\n",
    "for coord in df3['Geocode']:\n",
    "    coordenadas.append(coordToArray(str(coord)))\n",
    "len(coordenadas)"
   ]
  },
  {
   "cell_type": "code",
   "execution_count": 17,
   "metadata": {},
   "outputs": [
    {
     "name": "stderr",
     "output_type": "stream",
     "text": [
      "C:\\Users\\lucas-benz\\AppData\\Local\\Continuum\\anaconda3\\envs\\geo_env\\lib\\site-packages\\ipykernel_launcher.py:1: SettingWithCopyWarning: \n",
      "A value is trying to be set on a copy of a slice from a DataFrame.\n",
      "Try using .loc[row_indexer,col_indexer] = value instead\n",
      "\n",
      "See the caveats in the documentation: http://pandas.pydata.org/pandas-docs/stable/user_guide/indexing.html#returning-a-view-versus-a-copy\n",
      "  \"\"\"Entry point for launching an IPython kernel.\n"
     ]
    },
    {
     "data": {
      "text/plain": [
       "(71332,)"
      ]
     },
     "execution_count": 17,
     "metadata": {},
     "output_type": "execute_result"
    }
   ],
   "source": [
    "df3['Geocode Novo'] = coordenadas\n",
    "df3['Geocode Novo'].shape"
   ]
  },
  {
   "cell_type": "code",
   "execution_count": 18,
   "metadata": {},
   "outputs": [
    {
     "data": {
      "text/html": [
       "<div>\n",
       "<style scoped>\n",
       "    .dataframe tbody tr th:only-of-type {\n",
       "        vertical-align: middle;\n",
       "    }\n",
       "\n",
       "    .dataframe tbody tr th {\n",
       "        vertical-align: top;\n",
       "    }\n",
       "\n",
       "    .dataframe thead th {\n",
       "        text-align: right;\n",
       "    }\n",
       "</style>\n",
       "<table border=\"1\" class=\"dataframe\">\n",
       "  <thead>\n",
       "    <tr style=\"text-align: right;\">\n",
       "      <th></th>\n",
       "      <th>Órgão Registro</th>\n",
       "      <th>Ano Registro</th>\n",
       "      <th>Número Inteiro Ocorrência</th>\n",
       "      <th>Ano</th>\n",
       "      <th>Hora Minuto</th>\n",
       "      <th>Bairro Fato</th>\n",
       "      <th>Geocode</th>\n",
       "      <th>Placa</th>\n",
       "      <th>Marca</th>\n",
       "      <th>Tipo de Veículo</th>\n",
       "      <th>...</th>\n",
       "      <th>Ano Modelo</th>\n",
       "      <th>Município</th>\n",
       "      <th>Data Fato</th>\n",
       "      <th>Nome Rua</th>\n",
       "      <th>Nro</th>\n",
       "      <th>Tipo Fato</th>\n",
       "      <th>Fato</th>\n",
       "      <th>Geocode Novo</th>\n",
       "      <th>STATUS</th>\n",
       "      <th>Ajustar Coordenadas</th>\n",
       "    </tr>\n",
       "  </thead>\n",
       "  <tbody>\n",
       "    <tr>\n",
       "      <th>437</th>\n",
       "      <td>100301</td>\n",
       "      <td>2005</td>\n",
       "      <td>4197</td>\n",
       "      <td>2005</td>\n",
       "      <td>11:00:00</td>\n",
       "      <td>CRISTO REDENTOR</td>\n",
       "      <td>-30.01278, -51.1595384</td>\n",
       "      <td>AAY9784</td>\n",
       "      <td>W/GOLF 2.0</td>\n",
       "      <td>AUTOMOVEL</td>\n",
       "      <td>...</td>\n",
       "      <td>2002</td>\n",
       "      <td>Porto Alegre</td>\n",
       "      <td>2005-04-04</td>\n",
       "      <td>FRANCISCO TREIN</td>\n",
       "      <td>218</td>\n",
       "      <td>Consumado</td>\n",
       "      <td>ROUBO DE VEICULO</td>\n",
       "      <td>POINT (-51.1595384 -30.01278)</td>\n",
       "      <td>NaN</td>\n",
       "      <td>NaN</td>\n",
       "    </tr>\n",
       "    <tr>\n",
       "      <th>2131</th>\n",
       "      <td>100463</td>\n",
       "      <td>2005</td>\n",
       "      <td>4944</td>\n",
       "      <td>2005</td>\n",
       "      <td>10:00:00</td>\n",
       "      <td>Florescente</td>\n",
       "      <td>-30.1129212, -51.05968499999999</td>\n",
       "      <td>BIG9926</td>\n",
       "      <td>FIAT/UNO MILLE</td>\n",
       "      <td>AUTOMOVEL</td>\n",
       "      <td>...</td>\n",
       "      <td>1992</td>\n",
       "      <td>Viamão</td>\n",
       "      <td>2005-08-14</td>\n",
       "      <td>EST. DA BRANQUINHA</td>\n",
       "      <td>3009</td>\n",
       "      <td>Consumado</td>\n",
       "      <td>RECUPERACAO DE VEICULO</td>\n",
       "      <td>POINT (-51.05968499999999 -30.1129212)</td>\n",
       "      <td>NaN</td>\n",
       "      <td>NaN</td>\n",
       "    </tr>\n",
       "    <tr>\n",
       "      <th>3713</th>\n",
       "      <td>100422</td>\n",
       "      <td>2005</td>\n",
       "      <td>445</td>\n",
       "      <td>2005</td>\n",
       "      <td>13:00:00</td>\n",
       "      <td>NaN</td>\n",
       "      <td>-30.0173242, -51.0667491</td>\n",
       "      <td>ICE5949</td>\n",
       "      <td>FIAT/UNO 1.6 R MPI</td>\n",
       "      <td>AUTOMOVEL</td>\n",
       "      <td>...</td>\n",
       "      <td>1994</td>\n",
       "      <td>Alvorada</td>\n",
       "      <td>2005-01-29</td>\n",
       "      <td>PRUDENTE DE MORAIS</td>\n",
       "      <td>107</td>\n",
       "      <td>Consumado</td>\n",
       "      <td>RECUPERACAO DE VEICULO</td>\n",
       "      <td>POINT (-51.0667491 -30.0173242)</td>\n",
       "      <td>NaN</td>\n",
       "      <td>NaN</td>\n",
       "    </tr>\n",
       "  </tbody>\n",
       "</table>\n",
       "<p>3 rows × 21 columns</p>\n",
       "</div>"
      ],
      "text/plain": [
       "      Órgão Registro  Ano Registro  Número Inteiro Ocorrência   Ano  \\\n",
       "437           100301          2005                       4197  2005   \n",
       "2131          100463          2005                       4944  2005   \n",
       "3713          100422          2005                        445  2005   \n",
       "\n",
       "     Hora Minuto      Bairro Fato                          Geocode    Placa  \\\n",
       "437     11:00:00  CRISTO REDENTOR           -30.01278, -51.1595384  AAY9784   \n",
       "2131    10:00:00      Florescente  -30.1129212, -51.05968499999999  BIG9926   \n",
       "3713    13:00:00              NaN         -30.0173242, -51.0667491  ICE5949   \n",
       "\n",
       "                   Marca Tipo de Veículo  ...  Ano Modelo     Município  \\\n",
       "437           W/GOLF 2.0       AUTOMOVEL  ...        2002  Porto Alegre   \n",
       "2131      FIAT/UNO MILLE       AUTOMOVEL  ...        1992        Viamão   \n",
       "3713  FIAT/UNO 1.6 R MPI       AUTOMOVEL  ...        1994      Alvorada   \n",
       "\n",
       "      Data Fato            Nome Rua   Nro  Tipo Fato                    Fato  \\\n",
       "437  2005-04-04     FRANCISCO TREIN   218  Consumado        ROUBO DE VEICULO   \n",
       "2131 2005-08-14  EST. DA BRANQUINHA  3009  Consumado  RECUPERACAO DE VEICULO   \n",
       "3713 2005-01-29  PRUDENTE DE MORAIS   107  Consumado  RECUPERACAO DE VEICULO   \n",
       "\n",
       "                                Geocode Novo STATUS  Ajustar Coordenadas  \n",
       "437            POINT (-51.1595384 -30.01278)    NaN                  NaN  \n",
       "2131  POINT (-51.05968499999999 -30.1129212)    NaN                  NaN  \n",
       "3713         POINT (-51.0667491 -30.0173242)    NaN                  NaN  \n",
       "\n",
       "[3 rows x 21 columns]"
      ]
     },
     "execution_count": 18,
     "metadata": {},
     "output_type": "execute_result"
    }
   ],
   "source": [
    "df3.head(3)"
   ]
  },
  {
   "cell_type": "code",
   "execution_count": 19,
   "metadata": {},
   "outputs": [],
   "source": [
    "cidades = {'municípios':['Porto Alegre',\n",
    "                         'Canoas',\n",
    "                         'Viamão',\n",
    "                         'Cachoeirinha',\n",
    "                         'Gravataí',\n",
    "                         'São Leopoldo',\n",
    "                         'Novo Hamburgo',\n",
    "                         'Alvorada',\n",
    "                         'Sapucaia do Sul',\n",
    "                         'Guaíba',\n",
    "                         'Eldorado do Sul',\n",
    "                         'Esteio'],\n",
    "           'código':[4314902,\n",
    "                     4304606,\n",
    "                     4323002,\n",
    "                     4303103,\n",
    "                     4309209,\n",
    "                     4318705,\n",
    "                     4313409,\n",
    "                     4300604,\n",
    "                     4320008,\n",
    "                     4309308,\n",
    "                     4306767,\n",
    "                     4307708]}     \n",
    "       \n",
    "dfCodCidades =pd.DataFrame(cidades)"
   ]
  },
  {
   "cell_type": "code",
   "execution_count": 20,
   "metadata": {},
   "outputs": [],
   "source": [
    "headers = {\n",
    "    'Content-Type': 'application/json;charset=UTF-8',\n",
    "    'User-Agent': 'google-colab',\n",
    "    'Accept': 'application/json, text/plain, */*',\n",
    "    'Accept-Encoding': 'gzip, deflate, br',\n",
    "    'Accept-Language': 'pt-BR,pt;q=0.9,en-US;q=0.8,en;q=0.7',\n",
    "    'Connection': 'keep-alive',\n",
    "}\n",
    "\n",
    "arrayShapes = []\n",
    "for cod in cidades['código']:\n",
    "    shapes = requests.get(\"https://servicodados.ibge.gov.br/api/v2/malhas/\"+str(cod)+\"/?formato=application/vnd.geo+json&resolucao=5\",\n",
    "                              headers=headers)\n",
    "    #atribui string json do shape para variável\n",
    "    arrayShapes.append(Polygon(list(geojson.utils.coords(shapes.json()))))\n",
    "    \n",
    "dfCodCidades['ShapesIBGE'] = arrayShapes"
   ]
  },
  {
   "cell_type": "code",
   "execution_count": 86,
   "metadata": {},
   "outputs": [],
   "source": []
  },
  {
   "cell_type": "code",
   "execution_count": 21,
   "metadata": {},
   "outputs": [],
   "source": [
    "ajuste = []\n",
    "for x, y in zip(df3['Município'], df3['Geocode Novo']):\n",
    "    #procura no df na a coluna onde o o municipio é igual x e retorna o valor da terceira coluna que tem os Shapes do IBGE\n",
    "    poly = dfCodCidades.loc[dfCodCidades['municípios']==x].iloc[0][2]\n",
    "    #verifica se o ponto y  está n dentro do shape da cidade e adicona o resulatado em um array\n",
    "    ajuste.append(poly.contains(y))"
   ]
  },
  {
   "cell_type": "code",
   "execution_count": null,
   "metadata": {},
   "outputs": [],
   "source": []
  },
  {
   "cell_type": "code",
   "execution_count": 22,
   "metadata": {},
   "outputs": [],
   "source": [
    "df3 = df3.drop(columns='Ajustar Coordenadas') #deleta antiga coluna ajustar colunas\n",
    "df3['Ajustar Coordenadas'] = ajuste #adicona nova coluna com a classificação"
   ]
  },
  {
   "cell_type": "code",
   "execution_count": 28,
   "metadata": {},
   "outputs": [
    {
     "data": {
      "text/plain": [
       "(58, 21)"
      ]
     },
     "execution_count": 28,
     "metadata": {},
     "output_type": "execute_result"
    }
   ],
   "source": [
    "filtro23=((df1['Tipo Fato']=='Consumado') &\n",
    "          (df1['Município']=='Porto Alegre')& (df1.Ano==2018))\n",
    "dfT1 = df1.loc[filtro23]\n",
    "dfT1.shape"
   ]
  },
  {
   "cell_type": "code",
   "execution_count": 31,
   "metadata": {},
   "outputs": [],
   "source": [
    "#base com dados procergs + minha compilação\n",
    "df4 = df1\n",
    "dfJoinned = df4.append(df3, ignore_index = True)"
   ]
  },
  {
   "cell_type": "code",
   "execution_count": 33,
   "metadata": {},
   "outputs": [],
   "source": [
    "with pd.ExcelWriter('BaseGeorrefProcergsLucas.xlsx') as writer: \n",
    "    dfJoinned.to_excel(writer, sheet_name='Base')"
   ]
  },
  {
   "cell_type": "code",
   "execution_count": 36,
   "metadata": {},
   "outputs": [],
   "source": [
    "#separando roubo e recuperacao, e apenas coordenadas corretas\n",
    "filtro2 = ((dfJoinned['Fato']!=\"RECUPERACAO DE VEICULO\") & (dfJoinned['Ajustar Coordenadas']==True))\n",
    "dfRoubo = dfJoinned.loc[filtro2]\n",
    "filtro3 = ((dfJoinned['Fato']==\"RECUPERACAO DE VEICULO\") & (dfJoinned['Ajustar Coordenadas']==True))\n",
    "dfRecup = dfJoinned.loc[filtro3]"
   ]
  },
  {
   "cell_type": "code",
   "execution_count": 37,
   "metadata": {},
   "outputs": [
    {
     "name": "stdout",
     "output_type": "stream",
     "text": [
      "Base de Roubo a veículo: (105218, 21) /n base Recuperação (106943, 21)\n"
     ]
    }
   ],
   "source": [
    "print('Base de Roubo a veículo: {} /n base Recuperação {}'.format(dfRoubo.shape,dfRecup.shape))"
   ]
  },
  {
   "cell_type": "code",
   "execution_count": 39,
   "metadata": {},
   "outputs": [
    {
     "data": {
      "text/html": [
       "<div>\n",
       "<style scoped>\n",
       "    .dataframe tbody tr th:only-of-type {\n",
       "        vertical-align: middle;\n",
       "    }\n",
       "\n",
       "    .dataframe tbody tr th {\n",
       "        vertical-align: top;\n",
       "    }\n",
       "\n",
       "    .dataframe thead th {\n",
       "        text-align: right;\n",
       "    }\n",
       "</style>\n",
       "<table border=\"1\" class=\"dataframe\">\n",
       "  <thead>\n",
       "    <tr style=\"text-align: right;\">\n",
       "      <th></th>\n",
       "      <th>ÓrgReg</th>\n",
       "      <th>ano recup</th>\n",
       "      <th>Hora recup</th>\n",
       "      <th>Placa</th>\n",
       "      <th>marca</th>\n",
       "      <th>Tipo Veíc</th>\n",
       "      <th>Ano Fabr</th>\n",
       "      <th>Ano Model</th>\n",
       "      <th>Mun recup</th>\n",
       "      <th>Dt recup</th>\n",
       "      <th>Rua recup</th>\n",
       "      <th>Nro recup</th>\n",
       "      <th>fato</th>\n",
       "      <th>Geocode recup</th>\n",
       "    </tr>\n",
       "  </thead>\n",
       "  <tbody>\n",
       "    <tr>\n",
       "      <th>2</th>\n",
       "      <td>100317</td>\n",
       "      <td>2005</td>\n",
       "      <td>13:00:00</td>\n",
       "      <td>IHE0192</td>\n",
       "      <td>M.BENZ/L 608 D</td>\n",
       "      <td>CAMINHAO</td>\n",
       "      <td>1981</td>\n",
       "      <td>1981</td>\n",
       "      <td>Porto Alegre</td>\n",
       "      <td>2005-01-09</td>\n",
       "      <td>SETE DE ABRIL</td>\n",
       "      <td>55</td>\n",
       "      <td>RECUPERACAO DE VEICULO</td>\n",
       "      <td>POINT (-51.20969 -30.01713)</td>\n",
       "    </tr>\n",
       "    <tr>\n",
       "      <th>3</th>\n",
       "      <td>100313</td>\n",
       "      <td>2005</td>\n",
       "      <td>09:00:00</td>\n",
       "      <td>IAR1811</td>\n",
       "      <td>VW/SANTANA CG</td>\n",
       "      <td>AUTOMOVEL</td>\n",
       "      <td>1986</td>\n",
       "      <td>1986</td>\n",
       "      <td>Porto Alegre</td>\n",
       "      <td>2005-10-04</td>\n",
       "      <td>FREDERICO CARLOS GOMES</td>\n",
       "      <td>309</td>\n",
       "      <td>RECUPERACAO DE VEICULO</td>\n",
       "      <td>POINT (-51.20393 -30.11924)</td>\n",
       "    </tr>\n",
       "  </tbody>\n",
       "</table>\n",
       "</div>"
      ],
      "text/plain": [
       "   ÓrgReg  ano recup Hora recup    Placa           marca  Tipo Veíc  Ano Fabr  \\\n",
       "2  100317       2005   13:00:00  IHE0192  M.BENZ/L 608 D   CAMINHAO      1981   \n",
       "3  100313       2005   09:00:00  IAR1811   VW/SANTANA CG  AUTOMOVEL      1986   \n",
       "\n",
       "   Ano Model     Mun recup   Dt recup               Rua recup Nro recup  \\\n",
       "2       1981  Porto Alegre 2005-01-09           SETE DE ABRIL        55   \n",
       "3       1986  Porto Alegre 2005-10-04  FREDERICO CARLOS GOMES       309   \n",
       "\n",
       "                     fato                Geocode recup  \n",
       "2  RECUPERACAO DE VEICULO  POINT (-51.20969 -30.01713)  \n",
       "3  RECUPERACAO DE VEICULO  POINT (-51.20393 -30.11924)  "
      ]
     },
     "execution_count": 39,
     "metadata": {},
     "output_type": "execute_result"
    }
   ],
   "source": [
    "dfRecup2 = dfRecup.drop(columns=['Ano Registro','Número Inteiro Ocorrência','Bairro Fato','Geocode','Tipo Fato','Ajustar Coordenadas','STATUS'])\n",
    "#mudando o nome das colunas para poder fazer o merge sem perdas depois\n",
    "dfRecup2.columns =['ÓrgReg',\n",
    "                  'ano recup',\n",
    "                  'Hora recup',\n",
    "                  'Placa',\n",
    "                  'marca',\n",
    "                  'Tipo Veíc',\n",
    "                  'Ano Fabr',\n",
    "                  'Ano Model',\n",
    "                  'Mun recup',\n",
    "                  'Dt recup',\n",
    "                  'Rua recup',\n",
    "                  'Nro recup',\n",
    "                  'fato',\n",
    "                  'Geocode recup']\n",
    "dfRecup2.head(2)"
   ]
  },
  {
   "cell_type": "code",
   "execution_count": 40,
   "metadata": {},
   "outputs": [],
   "source": [
    "#COMBINANDO LINHAS DE ROUBO COM LINHAS DE RECUPERAÇAO\n",
    "dfRoubo.set_index('Placa')\n",
    "dfRecup2.set_index('Placa')\n",
    "dfRelacao = pd.merge(dfRoubo,dfRecup2)"
   ]
  },
  {
   "cell_type": "code",
   "execution_count": 41,
   "metadata": {},
   "outputs": [
    {
     "data": {
      "text/plain": [
       "Index(['Órgão Registro', 'Ano Registro', 'Número Inteiro Ocorrência', 'Ano',\n",
       "       'Hora Minuto', 'Bairro Fato', 'Geocode', 'Placa', 'Marca',\n",
       "       'Tipo de Veículo', 'Ano Fabricação', 'Ano Modelo', 'Município',\n",
       "       'Data Fato', 'Nome Rua', 'Nro', 'Tipo Fato', 'Fato', 'Geocode Novo',\n",
       "       'STATUS', 'Ajustar Coordenadas', 'ÓrgReg', 'ano recup', 'Hora recup',\n",
       "       'marca', 'Tipo Veíc', 'Ano Fabr', 'Ano Model', 'Mun recup', 'Dt recup',\n",
       "       'Rua recup', 'Nro recup', 'fato', 'Geocode recup'],\n",
       "      dtype='object')"
      ]
     },
     "execution_count": 41,
     "metadata": {},
     "output_type": "execute_result"
    }
   ],
   "source": [
    "dfRelacao.columns"
   ]
  },
  {
   "cell_type": "code",
   "execution_count": 42,
   "metadata": {},
   "outputs": [
    {
     "data": {
      "text/html": [
       "<div>\n",
       "<style scoped>\n",
       "    .dataframe tbody tr th:only-of-type {\n",
       "        vertical-align: middle;\n",
       "    }\n",
       "\n",
       "    .dataframe tbody tr th {\n",
       "        vertical-align: top;\n",
       "    }\n",
       "\n",
       "    .dataframe thead th {\n",
       "        text-align: right;\n",
       "    }\n",
       "</style>\n",
       "<table border=\"1\" class=\"dataframe\">\n",
       "  <thead>\n",
       "    <tr style=\"text-align: right;\">\n",
       "      <th></th>\n",
       "      <th>Órgão Registro</th>\n",
       "      <th>Ano</th>\n",
       "      <th>Hora Minuto</th>\n",
       "      <th>Placa</th>\n",
       "      <th>Marca</th>\n",
       "      <th>Município</th>\n",
       "      <th>Data Fato</th>\n",
       "      <th>Nome Rua</th>\n",
       "      <th>Nro</th>\n",
       "      <th>Fato</th>\n",
       "      <th>Geocode Novo</th>\n",
       "      <th>ano recup</th>\n",
       "      <th>Hora recup</th>\n",
       "      <th>Mun recup</th>\n",
       "      <th>Dt recup</th>\n",
       "      <th>fato</th>\n",
       "      <th>Geocode recup</th>\n",
       "    </tr>\n",
       "  </thead>\n",
       "  <tbody>\n",
       "    <tr>\n",
       "      <th>0</th>\n",
       "      <td>100310</td>\n",
       "      <td>2005</td>\n",
       "      <td>21:00:00</td>\n",
       "      <td>LYG8322</td>\n",
       "      <td>FIAT/TEMPRA SX</td>\n",
       "      <td>Porto Alegre</td>\n",
       "      <td>2005-07-27</td>\n",
       "      <td>JOAO TELLES</td>\n",
       "      <td>195</td>\n",
       "      <td>ROUBO DE VEICULO</td>\n",
       "      <td>POINT (-51.2123532 -30.0310547)</td>\n",
       "      <td>2005</td>\n",
       "      <td>22:00:00</td>\n",
       "      <td>Porto Alegre</td>\n",
       "      <td>2005-07-27</td>\n",
       "      <td>RECUPERACAO DE VEICULO</td>\n",
       "      <td>POINT (-51.20878 -30.02914)</td>\n",
       "    </tr>\n",
       "    <tr>\n",
       "      <th>1</th>\n",
       "      <td>100305</td>\n",
       "      <td>2005</td>\n",
       "      <td>22:00:00</td>\n",
       "      <td>MBW2977</td>\n",
       "      <td>FORD FOCUS2.0L</td>\n",
       "      <td>Porto Alegre</td>\n",
       "      <td>2005-08-30</td>\n",
       "      <td>LUDOLFO BOEHL</td>\n",
       "      <td>388</td>\n",
       "      <td>ROUBO DE VEICULO</td>\n",
       "      <td>POINT (-51.2085 -30.08215)</td>\n",
       "      <td>2005</td>\n",
       "      <td>23:00:00</td>\n",
       "      <td>Porto Alegre</td>\n",
       "      <td>2005-08-30</td>\n",
       "      <td>RECUPERACAO DE VEICULO</td>\n",
       "      <td>POINT (-51.19586 -30.07831)</td>\n",
       "    </tr>\n",
       "  </tbody>\n",
       "</table>\n",
       "</div>"
      ],
      "text/plain": [
       "   Órgão Registro   Ano Hora Minuto    Placa           Marca     Município  \\\n",
       "0          100310  2005    21:00:00  LYG8322  FIAT/TEMPRA SX  Porto Alegre   \n",
       "1          100305  2005    22:00:00  MBW2977  FORD FOCUS2.0L  Porto Alegre   \n",
       "\n",
       "   Data Fato       Nome Rua  Nro              Fato  \\\n",
       "0 2005-07-27    JOAO TELLES  195  ROUBO DE VEICULO   \n",
       "1 2005-08-30  LUDOLFO BOEHL  388  ROUBO DE VEICULO   \n",
       "\n",
       "                      Geocode Novo  ano recup Hora recup     Mun recup  \\\n",
       "0  POINT (-51.2123532 -30.0310547)       2005   22:00:00  Porto Alegre   \n",
       "1       POINT (-51.2085 -30.08215)       2005   23:00:00  Porto Alegre   \n",
       "\n",
       "    Dt recup                    fato                Geocode recup  \n",
       "0 2005-07-27  RECUPERACAO DE VEICULO  POINT (-51.20878 -30.02914)  \n",
       "1 2005-08-30  RECUPERACAO DE VEICULO  POINT (-51.19586 -30.07831)  "
      ]
     },
     "execution_count": 42,
     "metadata": {},
     "output_type": "execute_result"
    }
   ],
   "source": [
    "dfRel = dfRelacao.drop(columns=['Ano Registro',\n",
    "                                'Número Inteiro Ocorrência',\n",
    "                                'Bairro Fato',\n",
    "                                'Geocode',\n",
    "                                'Tipo Fato',\n",
    "                                'Ajustar Coordenadas',\n",
    "                                'STATUS',\n",
    "                                'Bairro Fato',\n",
    "                                'Ano Fabr', \n",
    "                                'Ano Model',\n",
    "                                'Tipo Fato',\n",
    "                                'Rua recup', \n",
    "                                'Nro recup',\n",
    "                                'Tipo de Veículo',\n",
    "                                'Ano Fabricação', \n",
    "                                'Ano Modelo',\n",
    "                                'Tipo Veíc', \n",
    "                                'Ano Fabr', \n",
    "                                'Ano Model',\n",
    "                                'ÓrgReg',\n",
    "                                'marca'])\n",
    "dfRel.head(2)"
   ]
  },
  {
   "cell_type": "code",
   "execution_count": 51,
   "metadata": {},
   "outputs": [],
   "source": [
    "def coordToPoint(geopdcoord):\n",
    "    cd = str(geopdcoord)\n",
    "    j = cd.replace(\"POINT (\",\"\") #remove palavra POINT (\n",
    "    i = j.replace(\")\",\"\").split(\" \") # remove ultimo parenteses e splita o que sobrou resultando num array com as 2 coord\n",
    "    ponto = Point(float(i[0]),float(i[1]))\n",
    "    return ponto"
   ]
  },
  {
   "cell_type": "code",
   "execution_count": 52,
   "metadata": {},
   "outputs": [],
   "source": [
    "roubox = []\n",
    "rouboy = []\n",
    "recupx = []\n",
    "recupy = []\n",
    "\n",
    "for roubo,recup in zip(dfRel['Geocode Novo'],dfRel['Geocode recup']):\n",
    "    #print(recup)\n",
    "    #break\n",
    "    roubox.append(coordToPoint(roubo).x)\n",
    "    rouboy.append(coordToPoint(roubo).y)\n",
    "    recupx.append(coordToPoint(recup).x)\n",
    "    recupy.append(coordToPoint(recup).y)"
   ]
  },
  {
   "cell_type": "code",
   "execution_count": 58,
   "metadata": {},
   "outputs": [],
   "source": [
    "dfAnalise=dfRel.drop(columns=['Geocode Novo','Geocode recup'])\n",
    "dfAnalise['x roubo'] = roubox\n",
    "dfAnalise['y roubo'] = rouboy\n",
    "dfAnalise['x recuperacao'] = recupx\n",
    "dfAnalise['y recuperacao'] = recupy"
   ]
  },
  {
   "cell_type": "code",
   "execution_count": 60,
   "metadata": {},
   "outputs": [
    {
     "data": {
      "text/plain": [
       "(46606, 19)"
      ]
     },
     "execution_count": 60,
     "metadata": {},
     "output_type": "execute_result"
    }
   ],
   "source": [
    "dfAnalise.head(3)"
   ]
  },
  {
   "cell_type": "code",
   "execution_count": 61,
   "metadata": {},
   "outputs": [],
   "source": [
    "with pd.ExcelWriter('Relacao_Roubo_Recup.xlsx') as writer: \n",
    "    dfAnalise.to_excel(writer, sheet_name='Base')"
   ]
  },
  {
   "cell_type": "code",
   "execution_count": null,
   "metadata": {},
   "outputs": [],
   "source": []
  }
 ],
 "metadata": {
  "kernelspec": {
   "display_name": "Python 3",
   "language": "python",
   "name": "python3"
  },
  "language_info": {
   "codemirror_mode": {
    "name": "ipython",
    "version": 3
   },
   "file_extension": ".py",
   "mimetype": "text/x-python",
   "name": "python",
   "nbconvert_exporter": "python",
   "pygments_lexer": "ipython3",
   "version": "3.6.7"
  }
 },
 "nbformat": 4,
 "nbformat_minor": 2
}
